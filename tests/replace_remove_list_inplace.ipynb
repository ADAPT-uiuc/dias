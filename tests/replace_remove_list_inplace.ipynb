{
 "cells": [
  {
   "cell_type": "code",
   "execution_count": 1,
   "metadata": {
    "_cell_guid": "b1076dfc-b9ad-4769-8c92-a6c4dae69d19",
    "_uuid": "8f2839f25d086af736a60e9eeb907d3b93b6e0e5",
    "execution": {
     "iopub.execute_input": "2022-08-03T09:38:56.938877Z",
     "iopub.status.busy": "2022-08-03T09:38:56.93726Z",
     "iopub.status.idle": "2022-08-03T09:38:58.097895Z",
     "shell.execute_reply": "2022-08-03T09:38:58.096834Z",
     "shell.execute_reply.started": "2022-08-03T09:38:56.938729Z"
    }
   },
   "outputs": [],
   "source": [
    "import numpy as np\n",
    "import pandas as pd\n",
    "import dias.rewriter"
   ]
  },
  {
   "cell_type": "code",
   "execution_count": 2,
   "metadata": {
    "execution": {
     "iopub.execute_input": "2022-08-03T09:38:58.099842Z",
     "iopub.status.busy": "2022-08-03T09:38:58.099612Z",
     "iopub.status.idle": "2022-08-03T09:38:58.129488Z",
     "shell.execute_reply": "2022-08-03T09:38:58.128394Z",
     "shell.execute_reply.started": "2022-08-03T09:38:58.099813Z"
    },
    "scrolled": true
   },
   "outputs": [],
   "source": [
    "popul_df = pd.read_csv(\"./datasets/ampiiere__animal-crossing-villager-popularity-analysis__acnh_villager_data.csv\")"
   ]
  },
  {
   "cell_type": "markdown",
   "metadata": {},
   "source": [
    "# -- STEFANOS -- Replicate Data"
   ]
  },
  {
   "cell_type": "code",
   "execution_count": 3,
   "metadata": {
    "scrolled": false
   },
   "outputs": [
    {
     "name": "stdout",
     "output_type": "stream",
     "text": [
      "<class 'pandas.core.frame.DataFrame'>\n",
      "Int64Index: 4130000 entries, 0 to 412\n",
      "Data columns (total 3 columns):\n",
      " #   Column  Dtype \n",
      "---  ------  ----- \n",
      " 0   tier    int64 \n",
      " 1   rank    int64 \n",
      " 2   name    object\n",
      "dtypes: int64(2), object(1)\n",
      "memory usage: 126.0+ MB\n"
     ]
    }
   ],
   "source": [
    "factor = 10000\n",
    "popul_df = pd.concat([popul_df]*factor)\n",
    "popul_df.info()"
   ]
  },
  {
   "cell_type": "markdown",
   "metadata": {},
   "source": [
    "# -- STEFANOS -- Remove list from `df.replace()`\n",
    "\n",
    "*Original*: 851ms\n",
    "\n",
    "*Rewritten*: 199ms\n",
    "\n",
    "## Speedup: 4.2x"
   ]
  },
  {
   "cell_type": "code",
   "execution_count": 4,
   "metadata": {
    "execution": {
     "iopub.execute_input": "2022-08-03T09:38:58.272038Z",
     "iopub.status.busy": "2022-08-03T09:38:58.271095Z",
     "iopub.status.idle": "2022-08-03T09:38:58.283855Z",
     "shell.execute_reply": "2022-08-03T09:38:58.282829Z",
     "shell.execute_reply.started": "2022-08-03T09:38:58.272Z"
    }
   },
   "outputs": [
    {
     "name": "stdout",
     "output_type": "stream",
     "text": [
      "CPU times: user 185 ms, sys: 9.78 ms, total: 195 ms\n",
      "Wall time: 193 ms\n"
     ]
    },
    {
     "name": "stderr",
     "output_type": "stream",
     "text": [
      "[IREWRITE JSON]\n",
      "{\n",
      "  \"raw\": \"popul_df['name'] = popul_df['name'].replace(['OHare'],\\\"O\\\\'Hare\\\")\\npopul_df['name'] = popul_df['name'].replace(['Buck(Brows)'],\\\"Buck\\\")\\npopul_df['name'] = popul_df['name'].replace(['Renee'],\\\"Ren\\u00e9e\\\")\\npopul_df['name'] = popul_df['name'].replace(['WartJr'],\\\"Wart Jr.\\\")\\npopul_df['name'] = popul_df['name'].replace(['Crackle(Spork)'],\\\"Spork\\\")\\n\",\n",
      "  \"modified\": \"popul_df['name'].replace('OHare', \\\"O'Hare\\\", inplace=True)\\npopul_df['name'].replace('Buck(Brows)', 'Buck', inplace=True)\\npopul_df['name'].replace('Renee', 'Ren\\u00e9e', inplace=True)\\npopul_df['name'].replace('WartJr', 'Wart Jr.', inplace=True)\\npopul_df['name'].replace('Crackle(Spork)', 'Spork', inplace=True)\\n\",\n",
      "  \"patts-hit\": {\n",
      "    \"ReplaceRemoveList\": 1\n",
      "  },\n",
      "  \"rewritten-exec-time\": 192.709772\n",
      "}\n",
      "[IREWRITE END JSON]\n"
     ]
    }
   ],
   "source": [
    "%%time\n",
    "%%rewrite\n",
    "popul_df['name'] = popul_df['name'].replace(['OHare'],\"O\\'Hare\")\n",
    "popul_df['name'] = popul_df['name'].replace(['Buck(Brows)'],\"Buck\")\n",
    "popul_df['name'] = popul_df['name'].replace(['Renee'],\"Renée\")\n",
    "popul_df['name'] = popul_df['name'].replace(['WartJr'],\"Wart Jr.\")\n",
    "popul_df['name'] = popul_df['name'].replace(['Crackle(Spork)'],\"Spork\")"
   ]
  }
 ],
 "metadata": {
  "kernelspec": {
   "display_name": "Python 3 (ipykernel)",
   "language": "python",
   "name": "python3"
  },
  "language_info": {
   "codemirror_mode": {
    "name": "ipython",
    "version": 3
   },
   "file_extension": ".py",
   "mimetype": "text/x-python",
   "name": "python",
   "nbconvert_exporter": "python",
   "pygments_lexer": "ipython3",
   "version": "3.10.6"
  }
 },
 "nbformat": 4,
 "nbformat_minor": 4
}
