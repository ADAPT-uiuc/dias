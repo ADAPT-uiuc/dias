{
 "cells": [
  {
   "cell_type": "code",
   "execution_count": null,
   "metadata": {
    "_cell_guid": "b1076dfc-b9ad-4769-8c92-a6c4dae69d19",
    "_uuid": "8f2839f25d086af736a60e9eeb907d3b93b6e0e5",
    "execution": {
     "iopub.execute_input": "2022-08-03T09:38:56.938877Z",
     "iopub.status.busy": "2022-08-03T09:38:56.93726Z",
     "iopub.status.idle": "2022-08-03T09:38:58.097895Z",
     "shell.execute_reply": "2022-08-03T09:38:58.096834Z",
     "shell.execute_reply.started": "2022-08-03T09:38:56.938729Z"
    }
   },
   "outputs": [],
   "source": [
    "import numpy as np\n",
    "import pandas as pd\n",
    "import dias.rewriter"
   ]
  },
  {
   "cell_type": "code",
   "execution_count": null,
   "metadata": {
    "execution": {
     "iopub.execute_input": "2022-08-03T09:38:58.099842Z",
     "iopub.status.busy": "2022-08-03T09:38:58.099612Z",
     "iopub.status.idle": "2022-08-03T09:38:58.129488Z",
     "shell.execute_reply": "2022-08-03T09:38:58.128394Z",
     "shell.execute_reply.started": "2022-08-03T09:38:58.099813Z"
    },
    "scrolled": true
   },
   "outputs": [],
   "source": [
    "popul_df = pd.read_csv(\"./datasets/ampiiere__animal-crossing-villager-popularity-analysis__acnh_villager_data.csv\")"
   ]
  },
  {
   "attachments": {},
   "cell_type": "markdown",
   "metadata": {},
   "source": [
    "# -- STEFANOS -- Remove list from `df.replace()`"
   ]
  },
  {
   "cell_type": "code",
   "execution_count": null,
   "metadata": {
    "execution": {
     "iopub.execute_input": "2022-08-03T09:38:58.272038Z",
     "iopub.status.busy": "2022-08-03T09:38:58.271095Z",
     "iopub.status.idle": "2022-08-03T09:38:58.283855Z",
     "shell.execute_reply": "2022-08-03T09:38:58.282829Z",
     "shell.execute_reply.started": "2022-08-03T09:38:58.272Z"
    }
   },
   "outputs": [],
   "source": [
    "%%time\n",
    "popul_df['name'] = popul_df['name'].replace(['OHare'],\"O\\'Hare\")\n",
    "popul_df['name'] = popul_df['name'].replace(['Buck(Brows)'],\"Buck\")\n",
    "popul_df['name'] = popul_df['name'].replace(['Renee'],\"Renée\")\n",
    "popul_df['name'] = popul_df['name'].replace(['WartJr'],\"Wart Jr.\")\n",
    "popul_df['name'] = popul_df['name'].replace(['Crackle(Spork)'],\"Spork\")\n",
    "our = popul_df['name'].copy()"
   ]
  },
  {
   "cell_type": "code",
   "execution_count": null,
   "metadata": {},
   "outputs": [],
   "source": [
    "# DIAS_DISABLE\n",
    "# Repeat for correctness\n",
    "popul_df = pd.read_csv(\"./datasets/ampiiere__animal-crossing-villager-popularity-analysis__acnh_villager_data.csv\")\n",
    "popul_df['name'] = popul_df['name'].replace(['OHare'],\"O\\'Hare\")\n",
    "popul_df['name'] = popul_df['name'].replace(['Buck(Brows)'],\"Buck\")\n",
    "popul_df['name'] = popul_df['name'].replace(['Renee'],\"Renée\")\n",
    "popul_df['name'] = popul_df['name'].replace(['WartJr'],\"Wart Jr.\")\n",
    "popul_df['name'] = popul_df['name'].replace(['Crackle(Spork)'],\"Spork\")"
   ]
  },
  {
   "cell_type": "code",
   "execution_count": null,
   "metadata": {},
   "outputs": [],
   "source": [
    "assert (our == popul_df['name']).all()"
   ]
  }
 ],
 "metadata": {
  "kernelspec": {
   "display_name": "Python 3 (ipykernel)",
   "language": "python",
   "name": "python3"
  },
  "language_info": {
   "codemirror_mode": {
    "name": "ipython",
    "version": 3
   },
   "file_extension": ".py",
   "mimetype": "text/x-python",
   "name": "python",
   "nbconvert_exporter": "python",
   "pygments_lexer": "ipython3",
   "version": "3.10.6"
  }
 },
 "nbformat": 4,
 "nbformat_minor": 4
}
