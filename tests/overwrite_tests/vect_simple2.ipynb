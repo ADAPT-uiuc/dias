{
 "cells": [
  {
   "cell_type": "code",
   "execution_count": 1,
   "id": "c97cfcd1",
   "metadata": {},
   "outputs": [],
   "source": [
    "import pandas as pd\n",
    "import numpy as np\n",
    "import dias.rewriter"
   ]
  },
  {
   "cell_type": "code",
   "execution_count": 2,
   "id": "49efedbc",
   "metadata": {},
   "outputs": [],
   "source": [
    "df = pd.read_csv('../titanic.csv')"
   ]
  },
  {
   "cell_type": "code",
   "execution_count": 3,
   "id": "87985223",
   "metadata": {},
   "outputs": [],
   "source": [
    "def set_feature(row):\n",
    "    if row['Pclass'] == 1 and row['Survived'] == 1:\n",
    "        return True\n",
    "    else:\n",
    "        return False"
   ]
  },
  {
   "cell_type": "code",
   "execution_count": 4,
   "id": "b3749903",
   "metadata": {
    "scrolled": false
   },
   "outputs": [],
   "source": [
    "our = df.apply(set_feature, axis=1)"
   ]
  },
  {
   "cell_type": "code",
   "execution_count": 5,
   "id": "7f26f038",
   "metadata": {
    "scrolled": false
   },
   "outputs": [],
   "source": [
    "# Manually invoke the original apply()\n",
    "defa = dias.rewriter._DIAS_save_pandas_apply(df, set_feature, axis=1)"
   ]
  },
  {
   "cell_type": "code",
   "execution_count": 6,
   "id": "9ee83f64",
   "metadata": {},
   "outputs": [],
   "source": [
    "assert (defa == our).all()"
   ]
  }
 ],
 "metadata": {
  "kernelspec": {
   "display_name": "Python 3 (ipykernel)",
   "language": "python",
   "name": "python3"
  },
  "language_info": {
   "codemirror_mode": {
    "name": "ipython",
    "version": 3
   },
   "file_extension": ".py",
   "mimetype": "text/x-python",
   "name": "python",
   "nbconvert_exporter": "python",
   "pygments_lexer": "ipython3",
   "version": "3.10.6"
  }
 },
 "nbformat": 4,
 "nbformat_minor": 5
}
