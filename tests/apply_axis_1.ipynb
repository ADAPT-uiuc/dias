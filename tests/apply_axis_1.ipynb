{
 "cells": [
  {
   "cell_type": "markdown",
   "id": "26ad4491",
   "metadata": {},
   "source": [
    "Timings are with `titanic_repl.csv`"
   ]
  },
  {
   "cell_type": "markdown",
   "id": "2b65c5d5",
   "metadata": {},
   "source": [
    "### Further imporvement\n",
    "You can drop to numpy by `np.vectorize()` the function and then applying it to `df['Fare'].to_numpy()`. In this case, the speedup is small (going to ~650ms) but for bigger datasets, it may make a difference."
   ]
  },
  {
   "cell_type": "code",
   "execution_count": null,
   "id": "8ea6abdf",
   "metadata": {},
   "outputs": [],
   "source": [
    "import pandas as pd\n",
    "import dias.rewriter"
   ]
  },
  {
   "cell_type": "code",
   "execution_count": null,
   "id": "52e1dab0",
   "metadata": {},
   "outputs": [],
   "source": [
    "df = pd.read_csv('titanic.csv')"
   ]
  },
  {
   "cell_type": "code",
   "execution_count": null,
   "id": "c8f1d195",
   "metadata": {},
   "outputs": [],
   "source": [
    "def foo(row):\n",
    "    if row['Fare'] > 10:\n",
    "        return True\n",
    "    return False"
   ]
  },
  {
   "cell_type": "code",
   "execution_count": null,
   "id": "258ec42b",
   "metadata": {},
   "outputs": [],
   "source": [
    "%%time\n",
    "our = df.apply(foo, axis=1)"
   ]
  },
  {
   "cell_type": "code",
   "execution_count": null,
   "id": "9955a925",
   "metadata": {},
   "outputs": [],
   "source": [
    "%%time\n",
    "# DIAS_DISABLE\n",
    "defa = df.apply(foo, axis=1)"
   ]
  },
  {
   "cell_type": "code",
   "execution_count": null,
   "id": "09ad7f1b",
   "metadata": {},
   "outputs": [],
   "source": [
    "assert (our == defa).all()"
   ]
  }
 ],
 "metadata": {
  "kernelspec": {
   "display_name": "Python 3 (ipykernel)",
   "language": "python",
   "name": "python3"
  },
  "language_info": {
   "codemirror_mode": {
    "name": "ipython",
    "version": 3
   },
   "file_extension": ".py",
   "mimetype": "text/x-python",
   "name": "python",
   "nbconvert_exporter": "python",
   "pygments_lexer": "ipython3",
   "version": "3.9.12"
  }
 },
 "nbformat": 4,
 "nbformat_minor": 5
}
