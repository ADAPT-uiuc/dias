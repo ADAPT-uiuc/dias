{
 "cells": [
  {
   "cell_type": "code",
   "execution_count": 1,
   "metadata": {
    "_uuid": "568eb2d31004b87d22e119112ae01a1e75105f1d"
   },
   "outputs": [],
   "source": [
    "import numpy as np\n",
    "import pandas as pd\n",
    "import dias.rewriter"
   ]
  },
  {
   "cell_type": "code",
   "execution_count": 2,
   "metadata": {
    "_uuid": "cf75361436475758b8aa1cd4e677e0dbd4b506d3"
   },
   "outputs": [],
   "source": [
    "df = pd.read_csv(\"./datasets/spscientist__student-performance-in-exams__StudentsPerformance.csv\")"
   ]
  },
  {
   "cell_type": "markdown",
   "metadata": {},
   "source": [
    "# -- STEFANOS -- Replicate Data"
   ]
  },
  {
   "cell_type": "code",
   "execution_count": 3,
   "metadata": {},
   "outputs": [
    {
     "name": "stdout",
     "output_type": "stream",
     "text": [
      "<class 'pandas.core.frame.DataFrame'>\n",
      "Int64Index: 1000000 entries, 0 to 999\n",
      "Data columns (total 8 columns):\n",
      " #   Column                       Non-Null Count    Dtype \n",
      "---  ------                       --------------    ----- \n",
      " 0   gender                       1000000 non-null  object\n",
      " 1   race/ethnicity               1000000 non-null  object\n",
      " 2   parental level of education  1000000 non-null  object\n",
      " 3   lunch                        1000000 non-null  object\n",
      " 4   test preparation course      1000000 non-null  object\n",
      " 5   math score                   1000000 non-null  int64 \n",
      " 6   reading score                1000000 non-null  int64 \n",
      " 7   writing score                1000000 non-null  int64 \n",
      "dtypes: int64(3), object(5)\n",
      "memory usage: 68.7+ MB\n"
     ]
    }
   ],
   "source": [
    "factor = 1000\n",
    "df = pd.concat([df]*factor)\n",
    "df.info()"
   ]
  },
  {
   "cell_type": "markdown",
   "metadata": {},
   "source": [
    "# -- STEFANOS -- Prelude"
   ]
  },
  {
   "cell_type": "code",
   "execution_count": 4,
   "metadata": {},
   "outputs": [],
   "source": [
    "passmark = 40"
   ]
  },
  {
   "cell_type": "code",
   "execution_count": 5,
   "metadata": {
    "_uuid": "f43cddb72cc96b30df84bc0de83a4d9170904340"
   },
   "outputs": [],
   "source": [
    "df['Math_PassStatus'] = np.where(df['math score']<passmark, 'F', 'P')"
   ]
  },
  {
   "cell_type": "code",
   "execution_count": 6,
   "metadata": {
    "_uuid": "1bdb2d8cb82b90fc46be0894692f0579dcff2777"
   },
   "outputs": [],
   "source": [
    "df['Reading_PassStatus'] = np.where(df['reading score']<passmark, 'F', 'P')"
   ]
  },
  {
   "cell_type": "code",
   "execution_count": 7,
   "metadata": {
    "_uuid": "80ea49965e492fabbb2fb74d2c245752741310fa"
   },
   "outputs": [],
   "source": [
    "df['Writing_PassStatus'] = np.where(df['writing score']<passmark, 'F', 'P')"
   ]
  },
  {
   "cell_type": "markdown",
   "metadata": {},
   "source": [
    "# -- STEFANOS -- Apply Vectorized\n",
    "\n",
    "*Original time*: 5.16s\n",
    "\n",
    "*Rewritten time*: 113ms\n",
    "\n",
    "## Speedup: 45x"
   ]
  },
  {
   "cell_type": "code",
   "execution_count": 8,
   "metadata": {},
   "outputs": [
    {
     "name": "stdout",
     "output_type": "stream",
     "text": [
      "--------- Final Source -----------\n",
      "def _REWR_apply_vec(df):\n",
      "    if type(df) == pd.DataFrame:\n",
      "        return pd.Series(np.select([(df['Math_PassStatus'] == 'F') | (df[\n",
      "            'Reading_PassStatus'] == 'F') | (df['Writing_PassStatus'] ==\n",
      "            'F')], ['F'], default='P'))\n",
      "    else:\n",
      "        return df.apply(lambda x: 'F' if x['Math_PassStatus'] == 'F' or x[\n",
      "            'Reading_PassStatus'] == 'F' or x['Writing_PassStatus'] == 'F' else\n",
      "            'P', axis=1)\n",
      "df['OverAll_PassStatus'] = _REWR_apply_vec(df)\n",
      "\n",
      "CPU times: user 118 ms, sys: 11.6 ms, total: 130 ms\n",
      "Wall time: 129 ms\n"
     ]
    }
   ],
   "source": [
    "%%time\n",
    "%%rewrite\n",
    "df['OverAll_PassStatus'] = df.apply(lambda x : 'F' if x['Math_PassStatus'] == 'F' or \n",
    "                                    x['Reading_PassStatus'] == 'F' or x['Writing_PassStatus'] == 'F' else 'P', axis =1)"
   ]
  }
 ],
 "metadata": {
  "kernelspec": {
   "display_name": "Python 3 (ipykernel)",
   "language": "python",
   "name": "python3"
  },
  "language_info": {
   "codemirror_mode": {
    "name": "ipython",
    "version": 3
   },
   "file_extension": ".py",
   "mimetype": "text/x-python",
   "name": "python",
   "nbconvert_exporter": "python",
   "pygments_lexer": "ipython3",
   "version": "3.10.6"
  }
 },
 "nbformat": 4,
 "nbformat_minor": 1
}
