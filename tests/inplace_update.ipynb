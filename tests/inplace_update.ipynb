{
 "cells": [
  {
   "cell_type": "code",
   "execution_count": null,
   "id": "7bbe2498",
   "metadata": {},
   "outputs": [],
   "source": [
    "import pandas as pd\n",
    "import dias.rewriter"
   ]
  },
  {
   "cell_type": "code",
   "execution_count": null,
   "id": "27deca53",
   "metadata": {},
   "outputs": [],
   "source": [
    "raw_x = pd.read_csv('titanic.csv')"
   ]
  },
  {
   "cell_type": "code",
   "execution_count": null,
   "id": "8f47218d",
   "metadata": {},
   "outputs": [],
   "source": [
    "# DIAS_DISABLE\n",
    "raw_x[\"Dias\"]=raw_x[\"Age\"].fillna(raw_x[\"Age\"].mean())\n",
    "save = raw_x['Dias']"
   ]
  },
  {
   "cell_type": "code",
   "execution_count": null,
   "id": "e0f3958c",
   "metadata": {},
   "outputs": [],
   "source": [
    "raw_x = pd.read_csv('titanic.csv')"
   ]
  },
  {
   "cell_type": "code",
   "execution_count": null,
   "id": "b267924a",
   "metadata": {},
   "outputs": [],
   "source": [
    "# Repeat for correctness\n",
    "raw_x[\"Orig\"]=raw_x[\"Age\"].fillna(raw_x[\"Age\"].mean())"
   ]
  },
  {
   "cell_type": "code",
   "execution_count": null,
   "id": "af2be1a1",
   "metadata": {},
   "outputs": [],
   "source": [
    "assert (save == raw_x['Orig']).all()"
   ]
  }
 ],
 "metadata": {
  "kernelspec": {
   "display_name": "Python 3 (ipykernel)",
   "language": "python",
   "name": "python3"
  },
  "language_info": {
   "codemirror_mode": {
    "name": "ipython",
    "version": 3
   },
   "file_extension": ".py",
   "mimetype": "text/x-python",
   "name": "python",
   "nbconvert_exporter": "python",
   "pygments_lexer": "ipython3",
   "version": "3.9.12"
  }
 },
 "nbformat": 4,
 "nbformat_minor": 5
}
