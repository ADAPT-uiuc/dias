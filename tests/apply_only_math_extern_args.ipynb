{
 "cells": [
  {
   "cell_type": "code",
   "execution_count": 1,
   "metadata": {
    "_cell_guid": "78fea705-f9ad-4a81-aafd-8b7b624110d1",
    "_uuid": "1c291fe3725c706e0003f01f0102abb9709f25fc"
   },
   "outputs": [],
   "source": [
    "import pandas as pd\n",
    "import numpy as np\n",
    "import dias.rewriter"
   ]
  },
  {
   "cell_type": "code",
   "execution_count": 2,
   "metadata": {
    "_cell_guid": "0356d2a0-d8b2-4234-af78-bd51eaa3a390",
    "_uuid": "e0d62612bc9b9e9561afdc48fd1e75a9b0c82337"
   },
   "outputs": [],
   "source": [
    "md = pd.read_csv('./datasets/rounakbanik__movie-recommender-systems__movies_metadata.csv', low_memory=False)"
   ]
  },
  {
   "cell_type": "markdown",
   "metadata": {},
   "source": [
    "# -- STEFANOS -- Replicate Data"
   ]
  },
  {
   "cell_type": "code",
   "execution_count": 3,
   "metadata": {},
   "outputs": [],
   "source": [
    "factor = 220\n",
    "md = pd.concat([md]*factor)"
   ]
  },
  {
   "cell_type": "markdown",
   "metadata": {},
   "source": [
    "# -- STEFANOS -- Prelude"
   ]
  },
  {
   "cell_type": "code",
   "execution_count": 4,
   "metadata": {
    "_cell_guid": "de5d2a9a-9d67-4309-9256-844756318bd0",
    "_uuid": "1e732487caba09d9543f3da49cbe7ff5092e2675"
   },
   "outputs": [
    {
     "data": {
      "text/plain": [
       "5.65825"
      ]
     },
     "execution_count": 4,
     "metadata": {},
     "output_type": "execute_result"
    }
   ],
   "source": [
    "vote_counts = md[md['vote_count'].notnull()]['vote_count'].astype('int')\n",
    "vote_averages = md[md['vote_average'].notnull()]['vote_average'].astype('int')\n",
    "C = vote_averages.mean()\n",
    "C"
   ]
  },
  {
   "cell_type": "code",
   "execution_count": 5,
   "metadata": {
    "_cell_guid": "f2a3dff7-6430-471b-bd83-589779ab52b0",
    "_uuid": "23c2e113380f1bad9205ab2d0f8c372b0c246e79"
   },
   "outputs": [
    {
     "data": {
      "text/plain": [
       "1190.1999999997206"
      ]
     },
     "execution_count": 5,
     "metadata": {},
     "output_type": "execute_result"
    }
   ],
   "source": [
    "m = vote_counts.quantile(0.95)\n",
    "m"
   ]
  },
  {
   "cell_type": "code",
   "execution_count": 6,
   "metadata": {
    "_cell_guid": "93f480df-6e7b-427c-bbc0-906fd41640b0",
    "_uuid": "dbb8261dedb84e4a8ea8bed843c9de3ad9f3859d"
   },
   "outputs": [
    {
     "name": "stdout",
     "output_type": "stream",
     "text": [
      "CPU times: user 1.84 s, sys: 32 ms, total: 1.87 s\n",
      "Wall time: 1.87 s\n"
     ]
    }
   ],
   "source": [
    "%%time\n",
    "md['year'] = pd.to_datetime(md['release_date'], errors='coerce').apply(lambda x: str(x).split('-')[0] if x != np.nan else np.nan)"
   ]
  },
  {
   "cell_type": "code",
   "execution_count": 7,
   "metadata": {
    "_cell_guid": "e7e91af4-7ff5-4553-bfbb-b9339096397e",
    "_uuid": "dcb30bee69ef1a6ead2c745565e5e7bfd5314d7a"
   },
   "outputs": [
    {
     "data": {
      "text/plain": [
       "(44000, 4)"
      ]
     },
     "execution_count": 7,
     "metadata": {},
     "output_type": "execute_result"
    }
   ],
   "source": [
    "qualified = md[(md['vote_count'] >= m) & (md['vote_count'].notnull()) & (md['vote_average'].notnull())][['title', 'vote_count', 'vote_average', 'popularity']]\n",
    "qualified['vote_count'] = qualified['vote_count'].astype('int')\n",
    "qualified['vote_average'] = qualified['vote_average'].astype('int')\n",
    "qualified.shape"
   ]
  },
  {
   "cell_type": "markdown",
   "metadata": {},
   "source": [
    "# -- STEFANOS -- `apply()` with `axis=1` and only assignments and math\n",
    "\n",
    "*Original time*: 232ms\n",
    "\n",
    "*Rewritten*: 1.5ms\n",
    "\n",
    "## Speedup: 154x"
   ]
  },
  {
   "cell_type": "code",
   "execution_count": 8,
   "metadata": {
    "_cell_guid": "db959c40-7618-4755-a05a-5347f9460929",
    "_uuid": "6414e1aa7ed8cb4184ec451f02a18cd187e5345e"
   },
   "outputs": [
    {
     "name": "stdout",
     "output_type": "stream",
     "text": [
      "CPU times: user 2.6 ms, sys: 1.27 ms, total: 3.87 ms\n",
      "Wall time: 3.47 ms\n"
     ]
    },
    {
     "name": "stderr",
     "output_type": "stream",
     "text": [
      "[IREWRITE JSON]\n",
      "{\n",
      "  \"raw\": \"def weighted_rating(x):\\n    v = x['vote_count']\\n    R = x['vote_average']\\n    return (v/(v+m) * R) + (m/(m+v) * C)\\nqualified['wr'] = qualified.apply(weighted_rating, axis=1)\\n\",\n",
      "  \"modified\": \"def weighted_rating(x):\\n    v = x['vote_count']\\n    R = x['vote_average']\\n    return v / (v + m) * R + m / (m + v) * C\\nqualified['wr'] = weighted_rating(qualified)\\n\",\n",
      "  \"patts-hit\": {},\n",
      "  \"rewritten-exec-time\": 1.54797\n",
      "}\n",
      "[IREWRITE END JSON]\n"
     ]
    }
   ],
   "source": [
    "%%time\n",
    "%%rewrite\n",
    "def weighted_rating(x):\n",
    "    v = x['vote_count']\n",
    "    R = x['vote_average']\n",
    "    return (v/(v+m) * R) + (m/(m+v) * C)\n",
    "qualified['wr'] = qualified.apply(weighted_rating, axis=1)"
   ]
  }
 ],
 "metadata": {
  "kernelspec": {
   "display_name": "Python 3 (ipykernel)",
   "language": "python",
   "name": "python3"
  },
  "language_info": {
   "codemirror_mode": {
    "name": "ipython",
    "version": 3
   },
   "file_extension": ".py",
   "mimetype": "text/x-python",
   "name": "python",
   "nbconvert_exporter": "python",
   "pygments_lexer": "ipython3",
   "version": "3.10.6"
  }
 },
 "nbformat": 4,
 "nbformat_minor": 1
}
