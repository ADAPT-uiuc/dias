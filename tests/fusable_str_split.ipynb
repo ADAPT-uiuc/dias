{
 "cells": [
  {
   "cell_type": "code",
   "execution_count": null,
   "metadata": {
    "_cell_guid": "b1076dfc-b9ad-4769-8c92-a6c4dae69d19",
    "_uuid": "8f2839f25d086af736a60e9eeb907d3b93b6e0e5",
    "execution": {
     "iopub.execute_input": "2022-11-03T12:30:24.058351Z",
     "iopub.status.busy": "2022-11-03T12:30:24.057921Z",
     "iopub.status.idle": "2022-11-03T12:30:24.070233Z",
     "shell.execute_reply": "2022-11-03T12:30:24.068536Z",
     "shell.execute_reply.started": "2022-11-03T12:30:24.058316Z"
    }
   },
   "outputs": [],
   "source": [
    "import numpy as np\n",
    "import pandas as pd\n",
    "import dias.rewriter"
   ]
  },
  {
   "cell_type": "code",
   "execution_count": null,
   "metadata": {
    "execution": {
     "iopub.execute_input": "2022-11-03T12:30:24.073813Z",
     "iopub.status.busy": "2022-11-03T12:30:24.072224Z",
     "iopub.status.idle": "2022-11-03T12:30:24.111518Z",
     "shell.execute_reply": "2022-11-03T12:30:24.110262Z",
     "shell.execute_reply.started": "2022-11-03T12:30:24.073761Z"
    }
   },
   "outputs": [],
   "source": [
    "df = pd.read_csv(\"./datasets/saisandeepjallepalli__adidas-retail-eda-data-visualization__adidas.csv\")"
   ]
  },
  {
   "cell_type": "markdown",
   "metadata": {},
   "source": [
    "# -- STEFANOS -- Prelude"
   ]
  },
  {
   "cell_type": "code",
   "execution_count": null,
   "metadata": {
    "execution": {
     "iopub.execute_input": "2022-11-03T12:30:24.269402Z",
     "iopub.status.busy": "2022-11-03T12:30:24.268772Z",
     "iopub.status.idle": "2022-11-03T12:30:24.287733Z",
     "shell.execute_reply": "2022-11-03T12:30:24.286806Z",
     "shell.execute_reply.started": "2022-11-03T12:30:24.269368Z"
    }
   },
   "outputs": [],
   "source": [
    "df.dropna(inplace=True, axis=0)"
   ]
  },
  {
   "cell_type": "code",
   "execution_count": null,
   "metadata": {
    "execution": {
     "iopub.execute_input": "2022-11-03T12:30:24.310238Z",
     "iopub.status.busy": "2022-11-03T12:30:24.308802Z",
     "iopub.status.idle": "2022-11-03T12:30:24.322204Z",
     "shell.execute_reply": "2022-11-03T12:30:24.320799Z",
     "shell.execute_reply.started": "2022-11-03T12:30:24.310203Z"
    }
   },
   "outputs": [],
   "source": [
    "# Dropping 'currency' column as all records have 'USD' as currency\n",
    "# Dropping 'source' column as all records have 'adidas United States' as value\n",
    "# Dropping 'brand', 'country', 'language' columns as all records have same value\n",
    "\n",
    "df.drop([ 'brand', 'country', 'language', 'source_website', 'images', 'crawled_at', 'url', 'sku', 'currency','source', 'description'], axis=1, inplace=True)"
   ]
  },
  {
   "attachments": {},
   "cell_type": "markdown",
   "metadata": {},
   "source": [
    "# -- STEFANOS -- `.str.split()` to Generic Python"
   ]
  },
  {
   "cell_type": "code",
   "execution_count": null,
   "metadata": {},
   "outputs": [],
   "source": [
    "# Make copy for testing\n",
    "df['copy'] = df['original_price'].copy()"
   ]
  },
  {
   "cell_type": "code",
   "execution_count": null,
   "metadata": {
    "execution": {
     "iopub.execute_input": "2022-11-03T12:30:24.353165Z",
     "iopub.status.busy": "2022-11-03T12:30:24.352806Z",
     "iopub.status.idle": "2022-11-03T12:30:24.364807Z",
     "shell.execute_reply": "2022-11-03T12:30:24.362893Z",
     "shell.execute_reply.started": "2022-11-03T12:30:24.353134Z"
    }
   },
   "outputs": [],
   "source": [
    "df['original_price'] = df['original_price'].str.split('$')\n",
    "df['original_price'] = df['original_price'].str[1]"
   ]
  },
  {
   "cell_type": "code",
   "execution_count": null,
   "metadata": {},
   "outputs": [],
   "source": [
    "# DIAS_DISABLE\n",
    "# Repeat to make sure we have the same results\n",
    "df['defa'] = df['copy'].str.split('$')\n",
    "df['defa'] = df['defa'].str[1]"
   ]
  },
  {
   "cell_type": "code",
   "execution_count": null,
   "metadata": {},
   "outputs": [],
   "source": [
    "assert (df['original_price'] == df['defa']).all()"
   ]
  }
 ],
 "metadata": {
  "kernelspec": {
   "display_name": "Python 3 (ipykernel)",
   "language": "python",
   "name": "python3"
  },
  "language_info": {
   "codemirror_mode": {
    "name": "ipython",
    "version": 3
   },
   "file_extension": ".py",
   "mimetype": "text/x-python",
   "name": "python",
   "nbconvert_exporter": "python",
   "pygments_lexer": "ipython3",
   "version": "3.10.6"
  }
 },
 "nbformat": 4,
 "nbformat_minor": 4
}
