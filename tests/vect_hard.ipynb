{
 "cells": [
  {
   "cell_type": "code",
   "execution_count": 1,
   "id": "c97cfcd1",
   "metadata": {},
   "outputs": [],
   "source": [
    "import pandas as pd\n",
    "import numpy as np\n",
    "import dias.rewriter"
   ]
  },
  {
   "cell_type": "code",
   "execution_count": 2,
   "id": "49efedbc",
   "metadata": {},
   "outputs": [],
   "source": [
    "df = pd.read_csv('titanic.csv')"
   ]
  },
  {
   "cell_type": "code",
   "execution_count": 3,
   "id": "87985223",
   "metadata": {},
   "outputs": [],
   "source": [
    "def set_feature(row):\n",
    "    if row['Pclass'] == 1 and row['Survived'] == 1:\n",
    "        return row['PassengerId']\n",
    "    elif row['Age'] > 30:\n",
    "        return True\n",
    "    else:\n",
    "        return row['Sex']"
   ]
  },
  {
   "cell_type": "code",
   "execution_count": 4,
   "id": "b3749903",
   "metadata": {
    "scrolled": false
   },
   "outputs": [
    {
     "name": "stdout",
     "output_type": "stream",
     "text": [
      "--------- Final Source -----------\n",
      "our = np.select([(df['Pclass'] == 1) & (df['Survived'] == 1), df['Age'] > \n",
      "    30], [df['PassengerId'], True], default=df['Sex'])\n",
      "\n",
      "CPU times: user 1.85 ms, sys: 0 ns, total: 1.85 ms\n",
      "Wall time: 1.79 ms\n"
     ]
    },
    {
     "name": "stderr",
     "output_type": "stream",
     "text": [
      "{\"raw\": \"our = df.apply(set_feature, axis=1)\\n\",\n",
      "\"modified\": \"our = np.select([(df['Pclass'] == 1) & (df['Survived'] == 1), df['Age'] > \\n    30], [df['PassengerId'], True], default=df['Sex'])\\n\"},\n"
     ]
    }
   ],
   "source": [
    "%%time\n",
    "%%rewrite\n",
    "our = df.apply(set_feature, axis=1)"
   ]
  },
  {
   "cell_type": "code",
   "execution_count": 5,
   "id": "7f26f038",
   "metadata": {
    "scrolled": false
   },
   "outputs": [
    {
     "name": "stdout",
     "output_type": "stream",
     "text": [
      "CPU times: user 4.88 ms, sys: 0 ns, total: 4.88 ms\n",
      "Wall time: 4.81 ms\n"
     ]
    }
   ],
   "source": [
    "%%time\n",
    "defa = df.apply(set_feature, axis=1)"
   ]
  },
  {
   "cell_type": "code",
   "execution_count": 6,
   "id": "9ee83f64",
   "metadata": {},
   "outputs": [],
   "source": [
    "assert (defa == our).all()"
   ]
  }
 ],
 "metadata": {
  "kernelspec": {
   "display_name": "Python 3 (ipykernel)",
   "language": "python",
   "name": "python3"
  },
  "language_info": {
   "codemirror_mode": {
    "name": "ipython",
    "version": 3
   },
   "file_extension": ".py",
   "mimetype": "text/x-python",
   "name": "python",
   "nbconvert_exporter": "python",
   "pygments_lexer": "ipython3",
   "version": "3.10.6"
  }
 },
 "nbformat": 4,
 "nbformat_minor": 5
}
