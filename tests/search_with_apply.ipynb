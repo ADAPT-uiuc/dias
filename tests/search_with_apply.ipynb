{
 "cells": [
  {
   "cell_type": "code",
   "execution_count": null,
   "id": "72dbcda0",
   "metadata": {},
   "outputs": [],
   "source": [
    "import pandas as pd\n",
    "import dias.rewriter"
   ]
  },
  {
   "cell_type": "code",
   "execution_count": null,
   "id": "3f253107",
   "metadata": {},
   "outputs": [],
   "source": [
    "df = pd.read_csv('titanic.csv')"
   ]
  },
  {
   "cell_type": "code",
   "execution_count": null,
   "id": "56a2d9cf",
   "metadata": {},
   "outputs": [],
   "source": [
    "# DIAS_DISABLE\n",
    "defa = df['Name'].apply(lambda s: 'G' in s)"
   ]
  },
  {
   "cell_type": "code",
   "execution_count": null,
   "id": "e6bcf00f",
   "metadata": {
    "scrolled": true
   },
   "outputs": [],
   "source": [
    "our = df['Name'].apply(lambda s: 'G' in s)"
   ]
  },
  {
   "cell_type": "code",
   "execution_count": null,
   "id": "b96d754f",
   "metadata": {},
   "outputs": [],
   "source": [
    "assert (our == defa).all()"
   ]
  }
 ],
 "metadata": {
  "kernelspec": {
   "display_name": "Python 3 (ipykernel)",
   "language": "python",
   "name": "python3"
  },
  "language_info": {
   "codemirror_mode": {
    "name": "ipython",
    "version": 3
   },
   "file_extension": ".py",
   "mimetype": "text/x-python",
   "name": "python",
   "nbconvert_exporter": "python",
   "pygments_lexer": "ipython3",
   "version": "3.9.12"
  }
 },
 "nbformat": 4,
 "nbformat_minor": 5
}
