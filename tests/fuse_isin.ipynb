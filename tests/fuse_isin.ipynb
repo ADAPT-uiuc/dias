{
 "cells": [
  {
   "cell_type": "code",
   "execution_count": 1,
   "metadata": {
    "_cell_guid": "b1076dfc-b9ad-4769-8c92-a6c4dae69d19",
    "_uuid": "8f2839f25d086af736a60e9eeb907d3b93b6e0e5",
    "execution": {
     "iopub.execute_input": "2022-10-14T00:50:26.243017Z",
     "iopub.status.busy": "2022-10-14T00:50:26.242594Z",
     "iopub.status.idle": "2022-10-14T00:50:26.250212Z",
     "shell.execute_reply": "2022-10-14T00:50:26.24882Z",
     "shell.execute_reply.started": "2022-10-14T00:50:26.242983Z"
    }
   },
   "outputs": [],
   "source": [
    "import numpy as np\n",
    "import pandas as pd\n",
    "import dias.rewriter"
   ]
  },
  {
   "cell_type": "code",
   "execution_count": 2,
   "metadata": {
    "execution": {
     "iopub.execute_input": "2022-10-14T00:50:28.214583Z",
     "iopub.status.busy": "2022-10-14T00:50:28.213556Z",
     "iopub.status.idle": "2022-10-14T00:50:28.281273Z",
     "shell.execute_reply": "2022-10-14T00:50:28.279737Z",
     "shell.execute_reply.started": "2022-10-14T00:50:28.214515Z"
    }
   },
   "outputs": [],
   "source": [
    "# load & cleanup\n",
    "file = './datasets/kkhandekar__environmental-vs-ai-startups-india-eda__Startup_Counts_Across_India.csv'\n",
    "df = pd.read_csv(file)"
   ]
  },
  {
   "cell_type": "markdown",
   "metadata": {},
   "source": [
    "# -- STEFANOS -- Replicate Data"
   ]
  },
  {
   "cell_type": "code",
   "execution_count": 3,
   "metadata": {},
   "outputs": [
    {
     "name": "stdout",
     "output_type": "stream",
     "text": [
      "<class 'pandas.core.frame.DataFrame'>\n",
      "Int64Index: 17673000 entries, 0 to 5890\n",
      "Data columns (total 5 columns):\n",
      " #   Column    Dtype \n",
      "---  ------    ----- \n",
      " 0   S No.     int64 \n",
      " 1   Year      int64 \n",
      " 2   State     object\n",
      " 3   Industry  object\n",
      " 4   Count     int64 \n",
      "dtypes: int64(3), object(2)\n",
      "memory usage: 809.0+ MB\n"
     ]
    }
   ],
   "source": [
    "factor = 3000\n",
    "df = pd.concat([df]*factor)\n",
    "df.info()"
   ]
  },
  {
   "cell_type": "markdown",
   "metadata": {},
   "source": [
    "# -- STEFANOS -- Prelude"
   ]
  },
  {
   "cell_type": "code",
   "execution_count": 4,
   "metadata": {},
   "outputs": [
    {
     "name": "stdout",
     "output_type": "stream",
     "text": [
      "CPU times: user 2.43 s, sys: 194 ms, total: 2.63 s\n",
      "Wall time: 2.62 s\n"
     ]
    },
    {
     "data": {
      "text/html": [
       "<div>\n",
       "<style scoped>\n",
       "    .dataframe tbody tr th:only-of-type {\n",
       "        vertical-align: middle;\n",
       "    }\n",
       "\n",
       "    .dataframe tbody tr th {\n",
       "        vertical-align: top;\n",
       "    }\n",
       "\n",
       "    .dataframe thead th {\n",
       "        text-align: right;\n",
       "    }\n",
       "</style>\n",
       "<table border=\"1\" class=\"dataframe\">\n",
       "  <thead>\n",
       "    <tr style=\"text-align: right;\">\n",
       "      <th></th>\n",
       "      <th>Year</th>\n",
       "      <th>State</th>\n",
       "      <th>Industry</th>\n",
       "      <th>Count</th>\n",
       "    </tr>\n",
       "  </thead>\n",
       "  <tbody>\n",
       "    <tr>\n",
       "      <th>0</th>\n",
       "      <td>2022</td>\n",
       "      <td>Andaman and Nicobar Islands</td>\n",
       "      <td>Agriculture</td>\n",
       "      <td>1</td>\n",
       "    </tr>\n",
       "    <tr>\n",
       "      <th>1</th>\n",
       "      <td>2022</td>\n",
       "      <td>Andaman and Nicobar Islands</td>\n",
       "      <td>AR VR (Augmented + Virtual Reality)</td>\n",
       "      <td>1</td>\n",
       "    </tr>\n",
       "    <tr>\n",
       "      <th>2</th>\n",
       "      <td>2022</td>\n",
       "      <td>Andaman and Nicobar Islands</td>\n",
       "      <td>Construction</td>\n",
       "      <td>1</td>\n",
       "    </tr>\n",
       "    <tr>\n",
       "      <th>3</th>\n",
       "      <td>2022</td>\n",
       "      <td>Andaman and Nicobar Islands</td>\n",
       "      <td>Internet of Things</td>\n",
       "      <td>1</td>\n",
       "    </tr>\n",
       "    <tr>\n",
       "      <th>4</th>\n",
       "      <td>2022</td>\n",
       "      <td>Andaman and Nicobar Islands</td>\n",
       "      <td>Marketing</td>\n",
       "      <td>1</td>\n",
       "    </tr>\n",
       "  </tbody>\n",
       "</table>\n",
       "</div>"
      ],
      "text/plain": [
       "   Year                        State                             Industry  \\\n",
       "0  2022  Andaman and Nicobar Islands                          Agriculture   \n",
       "1  2022  Andaman and Nicobar Islands  AR VR (Augmented + Virtual Reality)   \n",
       "2  2022  Andaman and Nicobar Islands                         Construction   \n",
       "3  2022  Andaman and Nicobar Islands                   Internet of Things   \n",
       "4  2022  Andaman and Nicobar Islands                            Marketing   \n",
       "\n",
       "   Count  \n",
       "0      1  \n",
       "1      1  \n",
       "2      1  \n",
       "3      1  \n",
       "4      1  "
      ]
     },
     "execution_count": 4,
     "metadata": {},
     "output_type": "execute_result"
    }
   ],
   "source": [
    "%%time\n",
    "df.drop('S No.',axis=1,inplace=True)\n",
    "df.dropna(inplace=True)\n",
    "df.reset_index(inplace=True,drop=True)\n",
    "\n",
    "#view\n",
    "df.head()"
   ]
  },
  {
   "cell_type": "code",
   "execution_count": 5,
   "metadata": {},
   "outputs": [
    {
     "name": "stdout",
     "output_type": "stream",
     "text": [
      "CPU times: user 1 µs, sys: 0 ns, total: 1 µs\n",
      "Wall time: 2.86 µs\n"
     ]
    }
   ],
   "source": [
    "%%time\n",
    "# Industry sub-categories for environmental & AI startups\n",
    "env = ['Agriculture','Green Technology','Renewable Energy','Waste Management']\n",
    "ai = ['AI','Robotics','Computer Vision']"
   ]
  },
  {
   "cell_type": "markdown",
   "metadata": {},
   "source": [
    "# -- STEFANOS -- Fuse `.isin()`\n",
    "\n",
    "*Original*: 700ms\n",
    "\n",
    "*Rewritten*: 338ms\n",
    "\n",
    "## Speedup: 2x"
   ]
  },
  {
   "cell_type": "code",
   "execution_count": 6,
   "metadata": {},
   "outputs": [
    {
     "name": "stdout",
     "output_type": "stream",
     "text": [
      "CPU times: user 295 ms, sys: 20.6 ms, total: 315 ms\n",
      "Wall time: 314 ms\n"
     ]
    }
   ],
   "source": [
    "%%time\n",
    "%%rewrite\n",
    "df_ea = df.loc[(df['Industry'].isin(env)) | (df['Industry'].isin(ai))].reset_index(drop=True,inplace=False)"
   ]
  }
 ],
 "metadata": {
  "kernelspec": {
   "display_name": "Python 3 (ipykernel)",
   "language": "python",
   "name": "python3"
  },
  "language_info": {
   "codemirror_mode": {
    "name": "ipython",
    "version": 3
   },
   "file_extension": ".py",
   "mimetype": "text/x-python",
   "name": "python",
   "nbconvert_exporter": "python",
   "pygments_lexer": "ipython3",
   "version": "3.10.6"
  }
 },
 "nbformat": 4,
 "nbformat_minor": 4
}
