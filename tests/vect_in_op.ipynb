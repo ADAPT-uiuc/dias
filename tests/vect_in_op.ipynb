{
 "cells": [
  {
   "cell_type": "code",
   "execution_count": 1,
   "id": "c97cfcd1",
   "metadata": {},
   "outputs": [],
   "source": [
    "import pandas as pd\n",
    "import numpy as np\n",
    "import dias.rewriter"
   ]
  },
  {
   "cell_type": "code",
   "execution_count": 2,
   "id": "49efedbc",
   "metadata": {},
   "outputs": [],
   "source": [
    "df = pd.read_csv('titanic.csv')"
   ]
  },
  {
   "cell_type": "code",
   "execution_count": 3,
   "id": "87985223",
   "metadata": {},
   "outputs": [],
   "source": [
    "cabins1 = ['C123', 'C148', 'C85']\n",
    "cabins2 = ['B42']\n",
    "def set_feature(row):\n",
    "    # NOTE: We know that since we check that the body of function is an if-chain\n",
    "    # with only returns, then the list (here `cabins`) cannot be defined inside\n",
    "    # the function. That would be a problem because we would have to move it outside.\n",
    "    if row['Cabin'] in cabins1 or row['Cabin'] in cabins2:\n",
    "        return True\n",
    "    else:\n",
    "        return False"
   ]
  },
  {
   "cell_type": "code",
   "execution_count": 4,
   "id": "b3749903",
   "metadata": {
    "scrolled": false
   },
   "outputs": [
    {
     "name": "stdout",
     "output_type": "stream",
     "text": [
      "--------- Final Source -----------\n",
      "our = np.select([df['Cabin'].isin(cabins1) | df['Cabin'].isin(cabins2)], [\n",
      "    True], default=False)\n",
      "\n",
      "CPU times: user 703 µs, sys: 1.08 ms, total: 1.78 ms\n",
      "Wall time: 1.68 ms\n"
     ]
    },
    {
     "name": "stderr",
     "output_type": "stream",
     "text": [
      "{\"raw\": \"our = df.apply(set_feature, axis=1)\\n\",\n",
      "\"modified\": \"our = np.select([df['Cabin'].isin(cabins1) | df['Cabin'].isin(cabins2)], [\\n    True], default=False)\\n\"},\n"
     ]
    }
   ],
   "source": [
    "%%time\n",
    "%%rewrite\n",
    "our = df.apply(set_feature, axis=1)"
   ]
  },
  {
   "cell_type": "code",
   "execution_count": 5,
   "id": "b6f54c59",
   "metadata": {
    "scrolled": false
   },
   "outputs": [
    {
     "name": "stdout",
     "output_type": "stream",
     "text": [
      "CPU times: user 4.21 ms, sys: 0 ns, total: 4.21 ms\n",
      "Wall time: 4.18 ms\n"
     ]
    }
   ],
   "source": [
    "%%time\n",
    "defa = df.apply(set_feature, axis=1)"
   ]
  },
  {
   "cell_type": "code",
   "execution_count": 6,
   "id": "6c26af72",
   "metadata": {},
   "outputs": [],
   "source": [
    "assert (defa == our).all()"
   ]
  },
  {
   "cell_type": "code",
   "execution_count": 7,
   "id": "0f16fec9",
   "metadata": {},
   "outputs": [
    {
     "name": "stdout",
     "output_type": "stream",
     "text": [
      "CPU times: user 349 µs, sys: 0 ns, total: 349 µs\n",
      "Wall time: 344 µs\n"
     ]
    }
   ],
   "source": [
    "%%time\n",
    "our = np.select(\n",
    "        [df['Cabin'].isin(cabins1) | df['Cabin'].isin(cabins2)],\n",
    "        [True], \n",
    "        default=False)"
   ]
  }
 ],
 "metadata": {
  "kernelspec": {
   "display_name": "Python 3 (ipykernel)",
   "language": "python",
   "name": "python3"
  },
  "language_info": {
   "codemirror_mode": {
    "name": "ipython",
    "version": 3
   },
   "file_extension": ".py",
   "mimetype": "text/x-python",
   "name": "python",
   "nbconvert_exporter": "python",
   "pygments_lexer": "ipython3",
   "version": "3.10.6"
  }
 },
 "nbformat": 4,
 "nbformat_minor": 5
}
