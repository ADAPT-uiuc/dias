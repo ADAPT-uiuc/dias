{
 "cells": [
  {
   "cell_type": "code",
   "execution_count": 1,
   "id": "8044426b",
   "metadata": {},
   "outputs": [],
   "source": [
    "import pandas as pd\n",
    "import numpy as np\n",
    "import dias.rewriter"
   ]
  },
  {
   "cell_type": "code",
   "execution_count": 2,
   "id": "c5877a5b",
   "metadata": {},
   "outputs": [],
   "source": [
    "glb = 0"
   ]
  },
  {
   "cell_type": "code",
   "execution_count": 3,
   "id": "af0a37b8",
   "metadata": {},
   "outputs": [],
   "source": [
    "def reset_glb():\n",
    "    global glb\n",
    "    glb = 0\n",
    "\n",
    "def ret2(_, snd):\n",
    "    return snd\n",
    "def changes_glb():\n",
    "    global glb\n",
    "    glb = glb + 1\n",
    "\n",
    "def reads_glb():\n",
    "    global glb\n",
    "    return pd.Series([x for x in range(glb, 100)])"
   ]
  },
  {
   "cell_type": "code",
   "execution_count": 4,
   "id": "074b8546",
   "metadata": {},
   "outputs": [],
   "source": [
    "# DIAS_DISABLE\n",
    "defa = ret2(changes_glb(), reads_glb().sort_values().head())"
   ]
  },
  {
   "cell_type": "code",
   "execution_count": 5,
   "id": "8047c987",
   "metadata": {},
   "outputs": [],
   "source": [
    "reset_glb()"
   ]
  },
  {
   "cell_type": "code",
   "execution_count": 6,
   "id": "c4806050",
   "metadata": {},
   "outputs": [
    {
     "data": {
      "text/markdown": [
       "\n",
       "### Dias rewrote code:\n",
       "<br />\n",
       "\n",
       "```python\n",
       "our = ret2(changes_glb(), dias.rewriter.sort_head(called_on=reads_glb(), by\n",
       "    =None, n=5, asc=True, orig=lambda x: x.sort_values().head()))\n",
       "\n",
       "```\n"
      ],
      "text/plain": [
       "<IPython.core.display.Markdown object>"
      ]
     },
     "metadata": {},
     "output_type": "display_data"
    }
   ],
   "source": [
    "# DIAS_VERBOSE\n",
    "our = ret2(changes_glb(), reads_glb().sort_values().head())"
   ]
  },
  {
   "cell_type": "code",
   "execution_count": 9,
   "id": "9850bcec",
   "metadata": {},
   "outputs": [],
   "source": [
    "# Convert to list so that we don't take account of the index.\n",
    "comp = [x == y for x, y in zip(our.tolist(), defa.tolist())]\n",
    "assert all(comp)"
   ]
  }
 ],
 "metadata": {
  "kernelspec": {
   "display_name": "Python 3 (ipykernel)",
   "language": "python",
   "name": "python3"
  },
  "language_info": {
   "codemirror_mode": {
    "name": "ipython",
    "version": 3
   },
   "file_extension": ".py",
   "mimetype": "text/x-python",
   "name": "python",
   "nbconvert_exporter": "python",
   "pygments_lexer": "ipython3",
   "version": "3.10.6"
  }
 },
 "nbformat": 4,
 "nbformat_minor": 5
}
