{
 "cells": [
  {
   "cell_type": "code",
   "execution_count": 1,
   "id": "72dbcda0",
   "metadata": {},
   "outputs": [],
   "source": [
    "import pandas as pd\n",
    "import dias.rewriter"
   ]
  },
  {
   "cell_type": "code",
   "execution_count": 2,
   "id": "3f253107",
   "metadata": {},
   "outputs": [],
   "source": [
    "df = pd.read_csv('titanic.csv')"
   ]
  },
  {
   "cell_type": "code",
   "execution_count": null,
   "id": "f16da69e",
   "metadata": {},
   "outputs": [],
   "source": [
    "df = df[:10]\n",
    "df = df.drop([1, 3])"
   ]
  },
  {
   "cell_type": "code",
   "execution_count": 3,
   "id": "56a2d9cf",
   "metadata": {},
   "outputs": [
    {
     "name": "stdout",
     "output_type": "stream",
     "text": [
      "CPU times: user 503 ms, sys: 43.7 ms, total: 546 ms\n",
      "Wall time: 545 ms\n"
     ]
    }
   ],
   "source": [
    "# DIAS_DISABLE\n",
    "orig = df['Name'].apply(lambda s: 'G' in s)"
   ]
  },
  {
   "cell_type": "code",
   "execution_count": null,
   "id": "faca8c78",
   "metadata": {},
   "outputs": [],
   "source": [
    "rewr = df['Name'].apply(lambda s: 'G' in s)"
   ]
  },
  {
   "cell_type": "code",
   "execution_count": null,
   "id": "c0fda7c3",
   "metadata": {},
   "outputs": [],
   "source": [
    "assert (orig == rewr).all()"
   ]
  }
 ],
 "metadata": {
  "kernelspec": {
   "display_name": "Python 3 (ipykernel)",
   "language": "python",
   "name": "python3"
  },
  "language_info": {
   "codemirror_mode": {
    "name": "ipython",
    "version": 3
   },
   "file_extension": ".py",
   "mimetype": "text/x-python",
   "name": "python",
   "nbconvert_exporter": "python",
   "pygments_lexer": "ipython3",
   "version": "3.9.12"
  }
 },
 "nbformat": 4,
 "nbformat_minor": 5
}
