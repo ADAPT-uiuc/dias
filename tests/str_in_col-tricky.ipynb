{
 "cells": [
  {
   "cell_type": "markdown",
   "metadata": {},
   "source": [
    "# Taken from:\n",
    "### `dataranch/supermarket-sales-prediction-xgboost-fastai`"
   ]
  },
  {
   "cell_type": "code",
   "execution_count": null,
   "metadata": {
    "execution": {
     "iopub.execute_input": "2022-11-05T19:21:28.521758Z",
     "iopub.status.busy": "2022-11-05T19:21:28.520864Z",
     "iopub.status.idle": "2022-11-05T19:21:28.538676Z",
     "shell.execute_reply": "2022-11-05T19:21:28.537248Z",
     "shell.execute_reply.started": "2022-11-05T19:21:28.521705Z"
    },
    "papermill": {
     "duration": 7.638058,
     "end_time": "2022-10-07T15:11:23.043238",
     "exception": false,
     "start_time": "2022-10-07T15:11:15.40518",
     "status": "completed"
    },
    "tags": []
   },
   "outputs": [],
   "source": [
    "import pandas as pd\n",
    "import numpy as np\n",
    "import dias.rewriter"
   ]
  },
  {
   "cell_type": "code",
   "execution_count": null,
   "metadata": {
    "execution": {
     "iopub.execute_input": "2022-11-05T19:21:28.628565Z",
     "iopub.status.busy": "2022-11-05T19:21:28.628057Z",
     "iopub.status.idle": "2022-11-05T19:21:28.653679Z",
     "shell.execute_reply": "2022-11-05T19:21:28.652719Z",
     "shell.execute_reply.started": "2022-11-05T19:21:28.628534Z"
    },
    "papermill": {
     "duration": 0.043613,
     "end_time": "2022-10-07T15:11:23.318836",
     "exception": false,
     "start_time": "2022-10-07T15:11:23.275223",
     "status": "completed"
    },
    "tags": []
   },
   "outputs": [],
   "source": [
    "df = pd.read_csv('./datasets/dataranch__supermarket-sales-prediction-xgboost-fastai__SampleSuperstore.csv')"
   ]
  },
  {
   "cell_type": "markdown",
   "metadata": {},
   "source": [
    "## `x in df[col].to_string()` to `df[col].astype(str).str.contains(x).any()`\n",
    "\n",
    "Here we bail because the string has trailing whitespace."
   ]
  },
  {
   "cell_type": "code",
   "execution_count": null,
   "metadata": {
    "execution": {
     "iopub.execute_input": "2022-11-05T19:21:28.655934Z",
     "iopub.status.busy": "2022-11-05T19:21:28.654941Z",
     "iopub.status.idle": "2022-11-05T19:21:29.331938Z",
     "shell.execute_reply": "2022-11-05T19:21:29.330907Z",
     "shell.execute_reply.started": "2022-11-05T19:21:28.6559Z"
    },
    "papermill": {
     "duration": 0.243518,
     "end_time": "2022-10-07T15:11:23.576548",
     "exception": false,
     "start_time": "2022-10-07T15:11:23.33303",
     "status": "completed"
    },
    "tags": []
   },
   "outputs": [],
   "source": [
    "%%time\n",
    "for col in df.columns:\n",
    "    if '12 ' in df[col].to_string():\n",
    "        pass"
   ]
  }
 ],
 "metadata": {
  "kernelspec": {
   "display_name": "Python 3 (ipykernel)",
   "language": "python",
   "name": "python3"
  },
  "language_info": {
   "codemirror_mode": {
    "name": "ipython",
    "version": 3
   },
   "file_extension": ".py",
   "mimetype": "text/x-python",
   "name": "python",
   "nbconvert_exporter": "python",
   "pygments_lexer": "ipython3",
   "version": "3.10.6"
  }
 },
 "nbformat": 4,
 "nbformat_minor": 4
}
