{
 "cells": [
  {
   "cell_type": "code",
   "execution_count": null,
   "metadata": {
    "_uuid": "568eb2d31004b87d22e119112ae01a1e75105f1d"
   },
   "outputs": [],
   "source": [
    "import numpy as np\n",
    "import pandas as pd\n",
    "import dias.rewriter"
   ]
  },
  {
   "cell_type": "code",
   "execution_count": null,
   "metadata": {
    "_uuid": "cf75361436475758b8aa1cd4e677e0dbd4b506d3"
   },
   "outputs": [],
   "source": [
    "df = pd.read_csv(\"./datasets/spscientist__student-performance-in-exams__StudentsPerformance.csv\")"
   ]
  },
  {
   "cell_type": "markdown",
   "metadata": {},
   "source": [
    "# -- STEFANOS -- Prelude"
   ]
  },
  {
   "cell_type": "code",
   "execution_count": null,
   "metadata": {},
   "outputs": [],
   "source": [
    "passmark = 40"
   ]
  },
  {
   "cell_type": "code",
   "execution_count": null,
   "metadata": {
    "_uuid": "f43cddb72cc96b30df84bc0de83a4d9170904340"
   },
   "outputs": [],
   "source": [
    "df['Math_PassStatus'] = np.where(df['math score']<passmark, 'F', 'P')"
   ]
  },
  {
   "cell_type": "code",
   "execution_count": null,
   "metadata": {
    "_uuid": "1bdb2d8cb82b90fc46be0894692f0579dcff2777"
   },
   "outputs": [],
   "source": [
    "df['Reading_PassStatus'] = np.where(df['reading score']<passmark, 'F', 'P')"
   ]
  },
  {
   "cell_type": "code",
   "execution_count": null,
   "metadata": {
    "_uuid": "80ea49965e492fabbb2fb74d2c245752741310fa"
   },
   "outputs": [],
   "source": [
    "df['Writing_PassStatus'] = np.where(df['writing score']<passmark, 'F', 'P')"
   ]
  },
  {
   "cell_type": "markdown",
   "metadata": {},
   "source": [
    "# -- STEFANOS -- Apply Vectorized\n",
    "\n",
    "This is similar to `apply_vectorized_lambda.ipynb` but here the `.apply()` is part of a bigger chain that expects\n",
    "the `.apply()` to return a `pd.Series()` (initially, I was not wrapping the `np.select()` with a `pd.Series()` which made this test fail)."
   ]
  },
  {
   "cell_type": "code",
   "execution_count": null,
   "metadata": {},
   "outputs": [],
   "source": [
    "our = df.apply(lambda x : 'F' if x['Math_PassStatus'] == 'F' or \n",
    "                x['Reading_PassStatus'] == 'F' or x['Writing_PassStatus'] == 'F' else 'P', axis =1).str.replace('F', 'B')"
   ]
  },
  {
   "cell_type": "code",
   "execution_count": null,
   "metadata": {},
   "outputs": [],
   "source": [
    "defa = df.apply(lambda x : 'F' if x['Math_PassStatus'] == 'F' or \n",
    "                  x['Reading_PassStatus'] == 'F' or x['Writing_PassStatus'] == 'F' else 'P', axis =1).str.replace('F', 'B')"
   ]
  },
  {
   "cell_type": "code",
   "execution_count": null,
   "metadata": {},
   "outputs": [],
   "source": [
    "assert (our == defa).all()"
   ]
  }
 ],
 "metadata": {
  "kernelspec": {
   "display_name": "Python 3 (ipykernel)",
   "language": "python",
   "name": "python3"
  },
  "language_info": {
   "codemirror_mode": {
    "name": "ipython",
    "version": 3
   },
   "file_extension": ".py",
   "mimetype": "text/x-python",
   "name": "python",
   "nbconvert_exporter": "python",
   "pygments_lexer": "ipython3",
   "version": "3.10.6"
  }
 },
 "nbformat": 4,
 "nbformat_minor": 1
}
