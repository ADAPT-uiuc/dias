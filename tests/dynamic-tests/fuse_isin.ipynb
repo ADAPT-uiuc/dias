{
 "cells": [
  {
   "cell_type": "code",
   "execution_count": null,
   "metadata": {
    "_cell_guid": "b1076dfc-b9ad-4769-8c92-a6c4dae69d19",
    "_uuid": "8f2839f25d086af736a60e9eeb907d3b93b6e0e5",
    "execution": {
     "iopub.execute_input": "2022-10-14T00:50:26.243017Z",
     "iopub.status.busy": "2022-10-14T00:50:26.242594Z",
     "iopub.status.idle": "2022-10-14T00:50:26.250212Z",
     "shell.execute_reply": "2022-10-14T00:50:26.24882Z",
     "shell.execute_reply.started": "2022-10-14T00:50:26.242983Z"
    }
   },
   "outputs": [],
   "source": [
    "import numpy as np\n",
    "import pandas as pd\n",
    "import dias.rewriter"
   ]
  },
  {
   "cell_type": "code",
   "execution_count": null,
   "metadata": {
    "execution": {
     "iopub.execute_input": "2022-10-14T00:50:28.214583Z",
     "iopub.status.busy": "2022-10-14T00:50:28.213556Z",
     "iopub.status.idle": "2022-10-14T00:50:28.281273Z",
     "shell.execute_reply": "2022-10-14T00:50:28.279737Z",
     "shell.execute_reply.started": "2022-10-14T00:50:28.214515Z"
    }
   },
   "outputs": [],
   "source": [
    "# load & cleanup\n",
    "file = './datasets/kkhandekar__environmental-vs-ai-startups-india-eda__Startup_Counts_Across_India.csv'\n",
    "df = pd.read_csv(file)"
   ]
  },
  {
   "cell_type": "markdown",
   "metadata": {},
   "source": [
    "# -- STEFANOS -- Prelude"
   ]
  },
  {
   "cell_type": "code",
   "execution_count": null,
   "metadata": {},
   "outputs": [],
   "source": [
    "df.drop('S No.',axis=1,inplace=True)\n",
    "df.dropna(inplace=True)\n",
    "df.reset_index(inplace=True,drop=True)\n",
    "\n",
    "#view\n",
    "df.head()"
   ]
  },
  {
   "cell_type": "code",
   "execution_count": null,
   "metadata": {},
   "outputs": [],
   "source": [
    "%%time\n",
    "# Industry sub-categories for environmental & AI startups\n",
    "env = ['Agriculture','Green Technology','Renewable Energy','Waste Management']\n",
    "ai = ['AI','Robotics','Computer Vision']"
   ]
  },
  {
   "attachments": {},
   "cell_type": "markdown",
   "metadata": {},
   "source": [
    "# -- STEFANOS -- Fuse `.isin()`"
   ]
  },
  {
   "cell_type": "code",
   "execution_count": null,
   "metadata": {},
   "outputs": [],
   "source": [
    "our = df.loc[(df['Industry'].isin(env)) | (df['Industry'].isin(ai))].reset_index(drop=True,inplace=False)"
   ]
  },
  {
   "cell_type": "code",
   "execution_count": null,
   "metadata": {},
   "outputs": [],
   "source": [
    "# DIAS_DISABLE\n",
    "defa = df.loc[(df['Industry'].isin(env)) | (df['Industry'].isin(ai))].reset_index(drop=True,inplace=False)"
   ]
  },
  {
   "cell_type": "code",
   "execution_count": null,
   "metadata": {},
   "outputs": [],
   "source": [
    "for col in our.columns:\n",
    "    assert(our[col] == defa[col]).all()"
   ]
  }
 ],
 "metadata": {
  "kernelspec": {
   "display_name": "Python 3 (ipykernel)",
   "language": "python",
   "name": "python3"
  },
  "language_info": {
   "codemirror_mode": {
    "name": "ipython",
    "version": 3
   },
   "file_extension": ".py",
   "mimetype": "text/x-python",
   "name": "python",
   "nbconvert_exporter": "python",
   "pygments_lexer": "ipython3",
   "version": "3.9.13"
  }
 },
 "nbformat": 4,
 "nbformat_minor": 4
}
