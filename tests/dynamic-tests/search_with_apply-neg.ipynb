{
 "cells": [
  {
   "cell_type": "markdown",
   "id": "c35018d2",
   "metadata": {},
   "source": [
    "A test where the preconditions don't pass."
   ]
  },
  {
   "cell_type": "code",
   "execution_count": 1,
   "id": "72dbcda0",
   "metadata": {},
   "outputs": [],
   "source": [
    "import pandas as pd\n",
    "import dias.rewriter"
   ]
  },
  {
   "cell_type": "code",
   "execution_count": 2,
   "id": "3f253107",
   "metadata": {},
   "outputs": [],
   "source": [
    "class Foo:\n",
    "    def apply(self, l):\n",
    "        return 2\n",
    "\n",
    "foo = Foo()"
   ]
  },
  {
   "cell_type": "code",
   "execution_count": 3,
   "id": "56a2d9cf",
   "metadata": {},
   "outputs": [],
   "source": [
    "# DIAS_DISABLE\n",
    "defa = foo.apply(lambda s: 'G' in s)"
   ]
  },
  {
   "cell_type": "code",
   "execution_count": 4,
   "id": "e6bcf00f",
   "metadata": {
    "scrolled": true
   },
   "outputs": [
    {
     "data": {
      "text/markdown": [
       "\n",
       "### Dias rewrote code:\n",
       "<br />\n",
       "\n",
       "```python\n",
       "our = dias.rewriter.substr_search_apply(ser=foo, needle='G', orig=lambda\n",
       "    _DIAS_x: _DIAS_x.apply(lambda s: 'G' in s))\n",
       "\n",
       "```\n"
      ],
      "text/plain": [
       "<IPython.core.display.Markdown object>"
      ]
     },
     "metadata": {},
     "output_type": "display_data"
    }
   ],
   "source": [
    "# DIAS_VERBOSE\n",
    "our = foo.apply(lambda s: 'G' in s)"
   ]
  },
  {
   "cell_type": "code",
   "execution_count": 5,
   "id": "b96d754f",
   "metadata": {},
   "outputs": [],
   "source": [
    "assert our == defa"
   ]
  }
 ],
 "metadata": {
  "kernelspec": {
   "display_name": "Python 3 (ipykernel)",
   "language": "python",
   "name": "python3"
  },
  "language_info": {
   "codemirror_mode": {
    "name": "ipython",
    "version": 3
   },
   "file_extension": ".py",
   "mimetype": "text/x-python",
   "name": "python",
   "nbconvert_exporter": "python",
   "pygments_lexer": "ipython3",
   "version": "3.10.6"
  }
 },
 "nbformat": 4,
 "nbformat_minor": 5
}
