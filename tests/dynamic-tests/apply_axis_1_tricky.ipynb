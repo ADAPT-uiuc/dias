{
 "cells": [
  {
   "cell_type": "markdown",
   "id": "80ea0e26",
   "metadata": {},
   "source": [
    "## Explanation\n",
    "\n",
    "In both cases below, the rewriter is not removing the `axis=1` because the correctness check in the code goes like this: If I have an `ast.Name` and its `.id` is equal to the row argument, and the encloser is not a `ast.Subscript`, then don't apply the pattern.\n",
    "In both cases, we have the statement `copy = row`. `row` appears there and its encloser is not a `ast.Subscript`.\n",
    "\n",
    "In the first case, the rewriter is incorrectly conservative while in the second, it is correctly conservative."
   ]
  },
  {
   "cell_type": "code",
   "execution_count": null,
   "id": "8ea6abdf",
   "metadata": {},
   "outputs": [],
   "source": [
    "import pandas as pd\n",
    "import dias.rewriter"
   ]
  },
  {
   "cell_type": "code",
   "execution_count": null,
   "id": "52e1dab0",
   "metadata": {
    "scrolled": true
   },
   "outputs": [],
   "source": [
    "df = pd.read_csv('./datasets/titanic.csv')"
   ]
  },
  {
   "cell_type": "code",
   "execution_count": null,
   "id": "a6aaf103",
   "metadata": {},
   "outputs": [],
   "source": [
    "def foo(row):\n",
    "    if row['Fare'] > 10:\n",
    "        return True\n",
    "    copy = row\n",
    "    return False"
   ]
  },
  {
   "cell_type": "code",
   "execution_count": null,
   "id": "e5d4fff8",
   "metadata": {},
   "outputs": [],
   "source": [
    "our = df.apply(foo, axis=1)"
   ]
  },
  {
   "cell_type": "code",
   "execution_count": null,
   "id": "f628eb91",
   "metadata": {},
   "outputs": [],
   "source": [
    "def bar(row):\n",
    "    if row['Fare'] > 10:\n",
    "        return True\n",
    "    copy = row\n",
    "    if copy['Survived'] == 1:\n",
    "        return True\n",
    "    return False"
   ]
  },
  {
   "cell_type": "code",
   "execution_count": null,
   "id": "ffd43d19",
   "metadata": {},
   "outputs": [],
   "source": [
    "our = df.apply(bar, axis=1)"
   ]
  }
 ],
 "metadata": {
  "kernelspec": {
   "display_name": "Python 3 (ipykernel)",
   "language": "python",
   "name": "python3"
  },
  "language_info": {
   "codemirror_mode": {
    "name": "ipython",
    "version": 3
   },
   "file_extension": ".py",
   "mimetype": "text/x-python",
   "name": "python",
   "nbconvert_exporter": "python",
   "pygments_lexer": "ipython3",
   "version": "3.9.12"
  }
 },
 "nbformat": 4,
 "nbformat_minor": 5
}
