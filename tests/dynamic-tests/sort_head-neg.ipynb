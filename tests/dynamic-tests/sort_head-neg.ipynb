{
 "cells": [
  {
   "cell_type": "markdown",
   "id": "c5a71999",
   "metadata": {},
   "source": [
    "A test where the preconditions don't pass."
   ]
  },
  {
   "cell_type": "code",
   "execution_count": 1,
   "id": "8044426b",
   "metadata": {},
   "outputs": [],
   "source": [
    "import pandas as pd\n",
    "import numpy as np\n",
    "import dias.rewriter"
   ]
  },
  {
   "cell_type": "code",
   "execution_count": 2,
   "id": "c5877a5b",
   "metadata": {},
   "outputs": [],
   "source": [
    "class Foo:\n",
    "    def sort_values(self):\n",
    "        return self\n",
    "    def head(self):\n",
    "        return 2\n",
    "\n",
    "foo = Foo()"
   ]
  },
  {
   "cell_type": "code",
   "execution_count": 3,
   "id": "074b8546",
   "metadata": {},
   "outputs": [],
   "source": [
    "# DIAS_DISABLE\n",
    "defa = foo.sort_values().head()"
   ]
  },
  {
   "cell_type": "code",
   "execution_count": 4,
   "id": "c4806050",
   "metadata": {},
   "outputs": [
    {
     "data": {
      "text/markdown": [
       "\n",
       "### Dias rewrote code:\n",
       "<br />\n",
       "\n",
       "```python\n",
       "our = dias.rewriter.sort_head(called_on=foo, by=None, n=5, asc=True, orig=\n",
       "    lambda _DIAS_x: _DIAS_x.sort_values().head())\n",
       "\n",
       "```\n"
      ],
      "text/plain": [
       "<IPython.core.display.Markdown object>"
      ]
     },
     "metadata": {},
     "output_type": "display_data"
    }
   ],
   "source": [
    "# DIAS_VERBOSE\n",
    "our = foo.sort_values().head()"
   ]
  },
  {
   "cell_type": "code",
   "execution_count": 5,
   "id": "9850bcec",
   "metadata": {},
   "outputs": [],
   "source": [
    "assert (defa == our)"
   ]
  }
 ],
 "metadata": {
  "kernelspec": {
   "display_name": "Python 3 (ipykernel)",
   "language": "python",
   "name": "python3"
  },
  "language_info": {
   "codemirror_mode": {
    "name": "ipython",
    "version": 3
   },
   "file_extension": ".py",
   "mimetype": "text/x-python",
   "name": "python",
   "nbconvert_exporter": "python",
   "pygments_lexer": "ipython3",
   "version": "3.10.6"
  }
 },
 "nbformat": 4,
 "nbformat_minor": 5
}
