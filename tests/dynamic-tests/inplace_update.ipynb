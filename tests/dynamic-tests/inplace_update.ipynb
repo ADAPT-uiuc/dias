{
 "cells": [
  {
   "cell_type": "code",
   "execution_count": 1,
   "id": "7bbe2498",
   "metadata": {},
   "outputs": [],
   "source": [
    "import pandas as pd\n",
    "import dias.rewriter"
   ]
  },
  {
   "cell_type": "code",
   "execution_count": 2,
   "id": "27deca53",
   "metadata": {},
   "outputs": [],
   "source": [
    "df = pd.DataFrame({'A': [1, None], 'B': [2, 3]})"
   ]
  },
  {
   "cell_type": "code",
   "execution_count": 3,
   "id": "8f47218d",
   "metadata": {},
   "outputs": [],
   "source": [
    "# DIAS_DISABLE\n",
    "df[\"A\"]=df[\"A\"].fillna(5)\n",
    "save = df['A']"
   ]
  },
  {
   "cell_type": "code",
   "execution_count": 4,
   "id": "e0f3958c",
   "metadata": {},
   "outputs": [],
   "source": [
    "df = pd.DataFrame({'A': [1, None], 'B': [2, 3]})"
   ]
  },
  {
   "cell_type": "code",
   "execution_count": 5,
   "id": "b267924a",
   "metadata": {},
   "outputs": [
    {
     "data": {
      "text/markdown": [
       "\n",
       "### Dias rewrote code:\n",
       "<br />\n",
       "\n",
       "```python\n",
       "_DIAS_ser = df['A']\n",
       "if type(_DIAS_ser) != pd.Series:\n",
       "    df['A'] = df['A'].fillna(5)\n",
       "else:\n",
       "    df['A'].fillna(5, inplace=True)\n",
       "\n",
       "```\n"
      ],
      "text/plain": [
       "<IPython.core.display.Markdown object>"
      ]
     },
     "metadata": {},
     "output_type": "display_data"
    }
   ],
   "source": [
    "# DIAS_VERBOSE\n",
    "df[\"A\"]=df[\"A\"].fillna(5)"
   ]
  },
  {
   "cell_type": "code",
   "execution_count": 6,
   "id": "af2be1a1",
   "metadata": {},
   "outputs": [],
   "source": [
    "assert (save == df['A']).all()"
   ]
  }
 ],
 "metadata": {
  "kernelspec": {
   "display_name": "Python 3 (ipykernel)",
   "language": "python",
   "name": "python3"
  },
  "language_info": {
   "codemirror_mode": {
    "name": "ipython",
    "version": 3
   },
   "file_extension": ".py",
   "mimetype": "text/x-python",
   "name": "python",
   "nbconvert_exporter": "python",
   "pygments_lexer": "ipython3",
   "version": "3.10.6"
  }
 },
 "nbformat": 4,
 "nbformat_minor": 5
}
