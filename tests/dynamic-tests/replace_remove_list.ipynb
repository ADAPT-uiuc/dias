{
 "cells": [
  {
   "cell_type": "markdown",
   "metadata": {},
   "source": [
    "# Taken from:\n",
    "### `paultimothymooney/kaggle-survey-2022-all-results`"
   ]
  },
  {
   "cell_type": "code",
   "execution_count": null,
   "metadata": {
    "_kg_hide-input": true,
    "execution": {
     "iopub.execute_input": "2022-10-06T13:49:58.538927Z",
     "iopub.status.busy": "2022-10-06T13:49:58.537986Z",
     "iopub.status.idle": "2022-10-06T13:50:00.923311Z",
     "shell.execute_reply": "2022-10-06T13:50:00.921674Z",
     "shell.execute_reply.started": "2022-10-06T13:49:58.538831Z"
    },
    "papermill": {
     "duration": 2.331679,
     "end_time": "2022-09-28T17:20:51.042024",
     "exception": false,
     "start_time": "2022-09-28T17:20:48.710345",
     "status": "completed"
    },
    "tags": []
   },
   "outputs": [],
   "source": [
    "import numpy as np \n",
    "import pandas as pd\n",
    "import dias.rewriter"
   ]
  },
  {
   "cell_type": "markdown",
   "metadata": {},
   "source": [
    "# -- STEFANOS -- Prelude"
   ]
  },
  {
   "cell_type": "code",
   "execution_count": null,
   "metadata": {
    "_cell_guid": "b1076dfc-b9ad-4769-8c92-a6c4dae69d19",
    "_kg_hide-input": true,
    "_uuid": "8f2839f25d086af736a60e9eeb907d3b93b6e0e5",
    "execution": {
     "iopub.execute_input": "2022-10-06T13:50:52.568313Z",
     "iopub.status.busy": "2022-10-06T13:50:52.567125Z",
     "iopub.status.idle": "2022-10-06T13:51:00.265935Z",
     "shell.execute_reply": "2022-10-06T13:51:00.264743Z",
     "shell.execute_reply.started": "2022-10-06T13:50:52.568247Z"
    },
    "papermill": {
     "duration": 17.213309,
     "end_time": "2022-09-28T17:21:08.56738",
     "exception": false,
     "start_time": "2022-09-28T17:20:51.354071",
     "status": "completed"
    },
    "tags": []
   },
   "outputs": [],
   "source": [
    "file_path = './datasets/paultimothymooney__kaggle-survey-2022-all-results__multipleChoiceResponses__sample.csv'\n",
    "responses_df_2018 = pd.read_csv(file_path,low_memory=False,encoding='ISO-8859-1')"
   ]
  },
  {
   "cell_type": "markdown",
   "metadata": {},
   "source": [
    "We load a sample and replicate it to save space on disk."
   ]
  },
  {
   "cell_type": "code",
   "execution_count": null,
   "metadata": {},
   "outputs": [],
   "source": [
    "responses_df_2018 = pd.concat([responses_df_2018]*25)"
   ]
  },
  {
   "cell_type": "code",
   "execution_count": null,
   "metadata": {},
   "outputs": [],
   "source": [
    "responses_df_2018.info()"
   ]
  },
  {
   "cell_type": "code",
   "execution_count": null,
   "metadata": {},
   "outputs": [],
   "source": [
    "responses_df_2018 = responses_df_2018[responses_df_2018.columns.drop(list(responses_df_2018.filter(regex='- Text')))]"
   ]
  },
  {
   "cell_type": "code",
   "execution_count": null,
   "metadata": {},
   "outputs": [],
   "source": [
    "%%time\n",
    "subset_of_countries = ['Other','India','United States of America','Brazil','Nigeria','Pakistan','Japan','China','Egypt','Indonesia','Mexico','Turkey','Russia']\n",
    "question_name = 'In which country do you currently reside?'\n",
    "responses_df_2018[question_name][~responses_df_2018[question_name].isin(subset_of_countries)] = \"Other\""
   ]
  },
  {
   "cell_type": "code",
   "execution_count": null,
   "metadata": {
    "_kg_hide-input": true,
    "execution": {
     "iopub.execute_input": "2022-10-06T13:51:03.841267Z",
     "iopub.status.busy": "2022-10-06T13:51:03.840704Z",
     "iopub.status.idle": "2022-10-06T13:51:03.955095Z",
     "shell.execute_reply": "2022-10-06T13:51:03.954334Z",
     "shell.execute_reply.started": "2022-10-06T13:51:03.841236Z"
    },
    "papermill": {
     "duration": 0.147328,
     "end_time": "2022-09-28T17:21:12.65641",
     "exception": false,
     "start_time": "2022-09-28T17:21:12.509082",
     "status": "completed"
    },
    "tags": []
   },
   "outputs": [],
   "source": [
    "question_of_interest = 'What is your age (# years)?'\n",
    "responses_df_2018[question_of_interest].replace(['70-79','80+'], '70+',inplace=True)"
   ]
  },
  {
   "cell_type": "code",
   "execution_count": null,
   "metadata": {
    "_kg_hide-input": true,
    "execution": {
     "iopub.execute_input": "2022-10-06T13:51:04.042179Z",
     "iopub.status.busy": "2022-10-06T13:51:04.041626Z",
     "iopub.status.idle": "2022-10-06T13:51:04.203443Z",
     "shell.execute_reply": "2022-10-06T13:51:04.202117Z",
     "shell.execute_reply.started": "2022-10-06T13:51:04.042144Z"
    },
    "papermill": {
     "duration": 0.195,
     "end_time": "2022-09-28T17:21:13.032505",
     "exception": false,
     "start_time": "2022-09-28T17:21:12.837505",
     "status": "completed"
    },
    "tags": []
   },
   "outputs": [],
   "source": [
    "responses_df_2018['What is your gender? - Selected Choice'].replace(['Male'], 'Man',inplace=True)\n",
    "responses_df_2018['What is your gender? - Selected Choice'].replace(['Female'], 'Woman',inplace=True)"
   ]
  },
  {
   "cell_type": "code",
   "execution_count": null,
   "metadata": {},
   "outputs": [],
   "source": [
    "%%time\n",
    "question_of_interest = 'On which platforms have you begun or completed data science courses'\n",
    "question_of_interest_alternate = 'On which online platforms have you begun or completed data science courses'\n",
    "responses_df_2018.columns = responses_df_2018.columns.str.replace(question_of_interest_alternate, question_of_interest)\n",
    "\n",
    "responses_df_2018.columns = responses_df_2018.columns.str.replace('Kaggle Learn', 'Kaggle Learn Courses',regex=False)\n",
    "responses_df_2018.columns = responses_df_2018.columns.str.replace('Fast.AI', 'Fast.ai')\n",
    "responses_df_2018.columns = responses_df_2018.columns.str.replace('Online University Courses', 'University Courses (resulting in a university degree)',regex=False)"
   ]
  },
  {
   "attachments": {},
   "cell_type": "markdown",
   "metadata": {},
   "source": [
    "# -- STEFANOS -- `ReplaceRemoveList`"
   ]
  },
  {
   "cell_type": "code",
   "execution_count": null,
   "metadata": {},
   "outputs": [],
   "source": [
    "resp_copy = responses_df_2018.copy()\n",
    "\n",
    "responses_df_2018.replace(['Kaggle Learn'], 'Kaggle Learn Courses',inplace=True)\n",
    "responses_df_2018.replace(['Fast.AI'], 'Fast.ai',inplace=True)\n",
    "responses_df_2018.replace(['Online University Courses'], 'University Courses (resulting in a university degree)',inplace=True)"
   ]
  },
  {
   "cell_type": "code",
   "execution_count": null,
   "metadata": {},
   "outputs": [],
   "source": [
    "# DIAS_DISABLE\n",
    "# Repeat for testing\n",
    "resp_copy.replace(['Kaggle Learn'], 'Kaggle Learn Courses',inplace=True)\n",
    "resp_copy.replace(['Fast.AI'], 'Fast.ai',inplace=True)\n",
    "resp_copy.replace(['Online University Courses'], 'University Courses (resulting in a university degree)',inplace=True)"
   ]
  },
  {
   "cell_type": "code",
   "execution_count": null,
   "metadata": {},
   "outputs": [],
   "source": [
    "for col in responses_df_2018.columns:\n",
    "  assert(resp_copy[col].dropna() == responses_df_2018[col].dropna()).all()"
   ]
  }
 ],
 "metadata": {
  "kernelspec": {
   "display_name": "Python 3 (ipykernel)",
   "language": "python",
   "name": "python3"
  },
  "language_info": {
   "codemirror_mode": {
    "name": "ipython",
    "version": 3
   },
   "file_extension": ".py",
   "mimetype": "text/x-python",
   "name": "python",
   "nbconvert_exporter": "python",
   "pygments_lexer": "ipython3",
   "version": "3.10.6"
  }
 },
 "nbformat": 4,
 "nbformat_minor": 4
}
