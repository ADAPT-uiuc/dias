{
 "cells": [
  {
   "cell_type": "code",
   "execution_count": null,
   "metadata": {
    "execution": {
     "iopub.execute_input": "2022-10-15T01:09:56.30425Z",
     "iopub.status.busy": "2022-10-15T01:09:56.303367Z",
     "iopub.status.idle": "2022-10-15T01:09:57.502473Z",
     "shell.execute_reply": "2022-10-15T01:09:57.501291Z",
     "shell.execute_reply.started": "2022-10-15T01:09:56.304126Z"
    }
   },
   "outputs": [],
   "source": [
    "import pandas as pd\n",
    "import numpy as np\n",
    "import dias.rewriter"
   ]
  },
  {
   "cell_type": "code",
   "execution_count": null,
   "metadata": {
    "execution": {
     "iopub.execute_input": "2022-10-15T01:09:57.504837Z",
     "iopub.status.busy": "2022-10-15T01:09:57.504456Z",
     "iopub.status.idle": "2022-10-15T01:09:57.665047Z",
     "shell.execute_reply": "2022-10-15T01:09:57.664034Z",
     "shell.execute_reply.started": "2022-10-15T01:09:57.504805Z"
    }
   },
   "outputs": [],
   "source": [
    "course = pd.read_csv(\"./datasets/aieducation__what-course-are-you-going-to-take__course_data_clean.csv\")"
   ]
  },
  {
   "attachments": {},
   "cell_type": "markdown",
   "metadata": {},
   "source": [
    "# -- STEFANOS -- `x, y = df[c].str.split()` to generic Python"
   ]
  },
  {
   "cell_type": "code",
   "execution_count": null,
   "metadata": {
    "execution": {
     "iopub.execute_input": "2022-10-15T01:09:57.822125Z",
     "iopub.status.busy": "2022-10-15T01:09:57.82136Z",
     "iopub.status.idle": "2022-10-15T01:09:57.862913Z",
     "shell.execute_reply": "2022-10-15T01:09:57.8619Z",
     "shell.execute_reply.started": "2022-10-15T01:09:57.822069Z"
    }
   },
   "outputs": [],
   "source": [
    "# DIAS_DISABLE\n",
    "course[[\"defa_course_unit\", \"defa_course_num\"]] = course[\"course_code\"].str.split(\" \", expand=True)"
   ]
  },
  {
   "cell_type": "code",
   "execution_count": null,
   "metadata": {},
   "outputs": [],
   "source": [
    "course[[\"our_course_unit\", \"our_course_num\"]] = course[\"course_code\"].str.split(\" \", expand=True)"
   ]
  },
  {
   "cell_type": "code",
   "execution_count": null,
   "metadata": {},
   "outputs": [],
   "source": [
    "assert (course[\"our_course_unit\"] == course[\"defa_course_unit\"]).all()\n",
    "assert (course[\"our_course_num\"] == course[\"defa_course_num\"]).all()"
   ]
  }
 ],
 "metadata": {
  "kernelspec": {
   "display_name": "Python 3 (ipykernel)",
   "language": "python",
   "name": "python3"
  },
  "language_info": {
   "codemirror_mode": {
    "name": "ipython",
    "version": 3
   },
   "file_extension": ".py",
   "mimetype": "text/x-python",
   "name": "python",
   "nbconvert_exporter": "python",
   "pygments_lexer": "ipython3",
   "version": "3.10.6"
  }
 },
 "nbformat": 4,
 "nbformat_minor": 4
}
