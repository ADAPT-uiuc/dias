{
 "cells": [
  {
   "cell_type": "code",
   "execution_count": 1,
   "metadata": {
    "execution": {
     "iopub.execute_input": "2022-10-15T01:09:56.30425Z",
     "iopub.status.busy": "2022-10-15T01:09:56.303367Z",
     "iopub.status.idle": "2022-10-15T01:09:57.502473Z",
     "shell.execute_reply": "2022-10-15T01:09:57.501291Z",
     "shell.execute_reply.started": "2022-10-15T01:09:56.304126Z"
    }
   },
   "outputs": [],
   "source": [
    "import pandas as pd\n",
    "import numpy as np\n",
    "import dias.rewriter"
   ]
  },
  {
   "cell_type": "code",
   "execution_count": 2,
   "metadata": {
    "execution": {
     "iopub.execute_input": "2022-10-15T01:09:57.504837Z",
     "iopub.status.busy": "2022-10-15T01:09:57.504456Z",
     "iopub.status.idle": "2022-10-15T01:09:57.665047Z",
     "shell.execute_reply": "2022-10-15T01:09:57.664034Z",
     "shell.execute_reply.started": "2022-10-15T01:09:57.504805Z"
    }
   },
   "outputs": [],
   "source": [
    "course = pd.read_csv(\"./datasets/aieducation__what-course-are-you-going-to-take__course_data_clean.csv\")"
   ]
  },
  {
   "cell_type": "markdown",
   "metadata": {},
   "source": [
    "# -- STEFANOS -- Replicate Data"
   ]
  },
  {
   "cell_type": "code",
   "execution_count": 3,
   "metadata": {},
   "outputs": [
    {
     "name": "stdout",
     "output_type": "stream",
     "text": [
      "<class 'pandas.core.frame.DataFrame'>\n",
      "Int64Index: 4451400 entries, 0 to 14837\n",
      "Data columns (total 10 columns):\n",
      " #   Column             Dtype  \n",
      "---  ------             -----  \n",
      " 0   course_code        object \n",
      " 1   course_title       object \n",
      " 2   num_ratings        int64  \n",
      " 3   useful             object \n",
      " 4   easy               object \n",
      " 5   liked              object \n",
      " 6   num_reviews        int64  \n",
      " 7   reviews            object \n",
      " 8   course_rating      object \n",
      " 9   course_rating_int  float64\n",
      "dtypes: float64(1), int64(2), object(7)\n",
      "memory usage: 373.6+ MB\n"
     ]
    }
   ],
   "source": [
    "factor = 300\n",
    "course = pd.concat([course]*factor)\n",
    "course.info()"
   ]
  },
  {
   "cell_type": "markdown",
   "metadata": {},
   "source": [
    "# -- STEFANOS -- `x, y = df[c].str.split()` to generic Python\n",
    "\n",
    "These times are with 300x replication.\n",
    "\n",
    "*Original time*: 4.38s\n",
    "\n",
    "*Rewritten*: 1.31s\n",
    "\n",
    "## Speedup: 3.3x"
   ]
  },
  {
   "cell_type": "code",
   "execution_count": 4,
   "metadata": {
    "execution": {
     "iopub.execute_input": "2022-10-15T01:09:57.822125Z",
     "iopub.status.busy": "2022-10-15T01:09:57.82136Z",
     "iopub.status.idle": "2022-10-15T01:09:57.862913Z",
     "shell.execute_reply": "2022-10-15T01:09:57.8619Z",
     "shell.execute_reply.started": "2022-10-15T01:09:57.822069Z"
    }
   },
   "outputs": [
    {
     "name": "stdout",
     "output_type": "stream",
     "text": [
      "CPU times: user 1.15 s, sys: 126 ms, total: 1.28 s\n",
      "Wall time: 1.27 s\n"
     ]
    }
   ],
   "source": [
    "%%time\n",
    "%%rewrite\n",
    "course[[\"course_unit\", \"course_num\"]] = course[\"course_code\"].str.split(\" \", expand=True)"
   ]
  }
 ],
 "metadata": {
  "kernelspec": {
   "display_name": "Python 3 (ipykernel)",
   "language": "python",
   "name": "python3"
  },
  "language_info": {
   "codemirror_mode": {
    "name": "ipython",
    "version": 3
   },
   "file_extension": ".py",
   "mimetype": "text/x-python",
   "name": "python",
   "nbconvert_exporter": "python",
   "pygments_lexer": "ipython3",
   "version": "3.10.6"
  }
 },
 "nbformat": 4,
 "nbformat_minor": 4
}
