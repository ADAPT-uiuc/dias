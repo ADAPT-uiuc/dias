{
 "cells": [
  {
   "cell_type": "code",
   "execution_count": 1,
   "id": "8044426b",
   "metadata": {},
   "outputs": [],
   "source": [
    "import pandas as pd\n",
    "import numpy as np\n",
    "import dias.rewriter"
   ]
  },
  {
   "cell_type": "code",
   "execution_count": 2,
   "id": "af0a37b8",
   "metadata": {},
   "outputs": [],
   "source": [
    "df = pd.DataFrame({'A': [1, 2], 'B': [3, 4]})"
   ]
  },
  {
   "cell_type": "code",
   "execution_count": 3,
   "id": "074b8546",
   "metadata": {},
   "outputs": [
    {
     "data": {
      "text/markdown": [
       "\n",
       "### Dias rewrote code:\n",
       "<br />\n",
       "\n",
       "```python\n",
       "def foo():\n",
       "    y = 2\n",
       "    return dias.rewriter.sort_head(called_on=df['A'], by=None, n=y, asc=\n",
       "        True, orig=lambda _DIAS_x: _DIAS_x.sort_values().head(n=y))\n",
       "our = foo()\n",
       "\n",
       "```\n"
      ],
      "text/plain": [
       "<IPython.core.display.Markdown object>"
      ]
     },
     "metadata": {},
     "output_type": "display_data"
    }
   ],
   "source": [
    "# DIAS_VERBOSE\n",
    "def foo():\n",
    "    y = 2\n",
    "    return df['A'].sort_values().head(n=y)\n",
    "    \n",
    "our = foo()"
   ]
  },
  {
   "cell_type": "code",
   "execution_count": 4,
   "id": "3a62b2cf",
   "metadata": {},
   "outputs": [],
   "source": [
    "# DIAS_DISABLE\n",
    "def foo():\n",
    "    y = 2\n",
    "    return df['A'].sort_values().head(n=y)\n",
    "    \n",
    "defa = foo()"
   ]
  },
  {
   "cell_type": "code",
   "execution_count": 5,
   "id": "9850bcec",
   "metadata": {},
   "outputs": [],
   "source": [
    "# Convert to list so that we don't take account of the index.\n",
    "comp = [x == y for x, y in zip(our.tolist(), defa.tolist())]\n",
    "assert all(comp)"
   ]
  }
 ],
 "metadata": {
  "kernelspec": {
   "display_name": "Python 3 (ipykernel)",
   "language": "python",
   "name": "python3"
  },
  "language_info": {
   "codemirror_mode": {
    "name": "ipython",
    "version": 3
   },
   "file_extension": ".py",
   "mimetype": "text/x-python",
   "name": "python",
   "nbconvert_exporter": "python",
   "pygments_lexer": "ipython3",
   "version": "3.10.6"
  }
 },
 "nbformat": 4,
 "nbformat_minor": 5
}
