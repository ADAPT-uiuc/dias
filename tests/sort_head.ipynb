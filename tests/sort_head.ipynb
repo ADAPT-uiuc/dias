{
 "cells": [
  {
   "attachments": {},
   "cell_type": "markdown",
   "id": "e5abbf62",
   "metadata": {},
   "source": [
    "# CORRECTNESS NOTE:\n",
    "The `sort_values().head()` and `nsmallest()` versions may not produce the same thing. This can happen if there are multiple rows with the same value. For example, if the lowest value appears in 3 rows, then these 3 rows will appear in both versions but possibly in different order. This value can even appear more times than the `n` argument to `head()`, in which case some rows may appear in one version and not in another.\n",
    "\n",
    "All this even though the [Pandas docs mention that the two are equivalent](https://github.com/pandas-dev/pandas/blob/478d340667831908b5b4bf09a2787a11a14560c9/pandas/core/frame.py#L7217). We assume that the users consider the two versions correct and so we don't disable the pattern. But, in these tests, we should make sure that we compare the values without the indexes (the values _must_ be the same; the indexes create the problem because they reflect that one version may have different rows than another)"
   ]
  },
  {
   "cell_type": "code",
   "execution_count": null,
   "id": "8044426b",
   "metadata": {},
   "outputs": [],
   "source": [
    "import pandas as pd\n",
    "import numpy as np\n",
    "import dias.rewriter"
   ]
  },
  {
   "cell_type": "code",
   "execution_count": null,
   "id": "af0a37b8",
   "metadata": {},
   "outputs": [],
   "source": [
    "train_df = pd.read_csv('./datasets/lextoumbourou__feedback3-eda-hf-custom-trainer-sift__train.csv')"
   ]
  },
  {
   "cell_type": "code",
   "execution_count": null,
   "id": "15201724",
   "metadata": {},
   "outputs": [],
   "source": [
    "LABEL_COLUMNS = ['cohesion', 'syntax', 'vocabulary', 'phraseology', 'grammar', 'conventions']\n",
    "train_df['total_score'] = train_df[LABEL_COLUMNS].sum(axis=1)"
   ]
  },
  {
   "cell_type": "code",
   "execution_count": null,
   "id": "074b8546",
   "metadata": {},
   "outputs": [],
   "source": [
    "# DIAS_DISABLE\n",
    "defa = train_df['total_score'].sort_values().head(4)"
   ]
  },
  {
   "cell_type": "code",
   "execution_count": null,
   "id": "c4806050",
   "metadata": {},
   "outputs": [],
   "source": [
    "our = train_df['total_score'].sort_values().head(4)"
   ]
  },
  {
   "cell_type": "code",
   "execution_count": null,
   "id": "9850bcec",
   "metadata": {},
   "outputs": [],
   "source": [
    "# Convert to list so that we don't take account of the index. See correctness note above.\n",
    "comp = [x == y for x, y in zip(our.tolist(), defa.tolist())]\n",
    "assert all(comp)"
   ]
  }
 ],
 "metadata": {
  "kernelspec": {
   "display_name": "Python 3 (ipykernel)",
   "language": "python",
   "name": "python3"
  },
  "language_info": {
   "codemirror_mode": {
    "name": "ipython",
    "version": 3
   },
   "file_extension": ".py",
   "mimetype": "text/x-python",
   "name": "python",
   "nbconvert_exporter": "python",
   "pygments_lexer": "ipython3",
   "version": "3.10.6"
  }
 },
 "nbformat": 4,
 "nbformat_minor": 5
}
