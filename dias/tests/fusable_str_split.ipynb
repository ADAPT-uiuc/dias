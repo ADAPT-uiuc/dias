{
 "cells": [
  {
   "cell_type": "code",
   "execution_count": 1,
   "metadata": {
    "_cell_guid": "b1076dfc-b9ad-4769-8c92-a6c4dae69d19",
    "_uuid": "8f2839f25d086af736a60e9eeb907d3b93b6e0e5",
    "execution": {
     "iopub.execute_input": "2022-11-03T12:30:24.058351Z",
     "iopub.status.busy": "2022-11-03T12:30:24.057921Z",
     "iopub.status.idle": "2022-11-03T12:30:24.070233Z",
     "shell.execute_reply": "2022-11-03T12:30:24.068536Z",
     "shell.execute_reply.started": "2022-11-03T12:30:24.058316Z"
    }
   },
   "outputs": [],
   "source": [
    "import numpy as np\n",
    "import pandas as pd\n",
    "import rewriter"
   ]
  },
  {
   "cell_type": "code",
   "execution_count": 2,
   "metadata": {
    "execution": {
     "iopub.execute_input": "2022-11-03T12:30:24.073813Z",
     "iopub.status.busy": "2022-11-03T12:30:24.072224Z",
     "iopub.status.idle": "2022-11-03T12:30:24.111518Z",
     "shell.execute_reply": "2022-11-03T12:30:24.110262Z",
     "shell.execute_reply.started": "2022-11-03T12:30:24.073761Z"
    }
   },
   "outputs": [],
   "source": [
    "df = pd.read_csv(\"./tests/datasets/saisandeepjallepalli__adidas-retail-eda-data-visualization__adidas.csv\")"
   ]
  },
  {
   "cell_type": "markdown",
   "metadata": {},
   "source": [
    "# -- STEFANOS -- Replicate Data"
   ]
  },
  {
   "cell_type": "code",
   "execution_count": 3,
   "metadata": {
    "scrolled": false
   },
   "outputs": [
    {
     "name": "stdout",
     "output_type": "stream",
     "text": [
      "<class 'pandas.core.frame.DataFrame'>\n",
      "Int64Index: 845000 entries, 0 to 844\n",
      "Data columns (total 20 columns):\n",
      " #   Column          Non-Null Count   Dtype  \n",
      "---  ------          --------------   -----  \n",
      " 0   url             845000 non-null  object \n",
      " 1   name            845000 non-null  object \n",
      " 2   sku             845000 non-null  object \n",
      " 3   selling_price   845000 non-null  int64  \n",
      " 4   original_price  829000 non-null  object \n",
      " 5   currency        845000 non-null  object \n",
      " 6   availability    845000 non-null  object \n",
      " 7   color           845000 non-null  object \n",
      " 8   category        845000 non-null  object \n",
      " 9   source          845000 non-null  object \n",
      " 10  source_website  845000 non-null  object \n",
      " 11  breadcrumbs     845000 non-null  object \n",
      " 12  description     845000 non-null  object \n",
      " 13  brand           845000 non-null  object \n",
      " 14  images          845000 non-null  object \n",
      " 15  country         845000 non-null  object \n",
      " 16  language        845000 non-null  object \n",
      " 17  average_rating  845000 non-null  float64\n",
      " 18  reviews_count   845000 non-null  int64  \n",
      " 19  crawled_at      845000 non-null  object \n",
      "dtypes: float64(1), int64(2), object(17)\n",
      "memory usage: 135.4+ MB\n"
     ]
    }
   ],
   "source": [
    "factor = 1000\n",
    "df = pd.concat([df]*factor)\n",
    "df.info()"
   ]
  },
  {
   "cell_type": "markdown",
   "metadata": {},
   "source": [
    "# -- STEFANOS -- Prelude"
   ]
  },
  {
   "cell_type": "code",
   "execution_count": 4,
   "metadata": {
    "execution": {
     "iopub.execute_input": "2022-11-03T12:30:24.269402Z",
     "iopub.status.busy": "2022-11-03T12:30:24.268772Z",
     "iopub.status.idle": "2022-11-03T12:30:24.287733Z",
     "shell.execute_reply": "2022-11-03T12:30:24.286806Z",
     "shell.execute_reply.started": "2022-11-03T12:30:24.269368Z"
    }
   },
   "outputs": [],
   "source": [
    "df.dropna(inplace=True, axis=0)"
   ]
  },
  {
   "cell_type": "code",
   "execution_count": 5,
   "metadata": {
    "execution": {
     "iopub.execute_input": "2022-11-03T12:30:24.310238Z",
     "iopub.status.busy": "2022-11-03T12:30:24.308802Z",
     "iopub.status.idle": "2022-11-03T12:30:24.322204Z",
     "shell.execute_reply": "2022-11-03T12:30:24.320799Z",
     "shell.execute_reply.started": "2022-11-03T12:30:24.310203Z"
    }
   },
   "outputs": [],
   "source": [
    "# Dropping 'currency' column as all records have 'USD' as currency\n",
    "# Dropping 'source' column as all records have 'adidas United States' as value\n",
    "# Dropping 'brand', 'country', 'language' columns as all records have same value\n",
    "\n",
    "df.drop([ 'brand', 'country', 'language', 'source_website', 'images', 'crawled_at', 'url', 'sku', 'currency','source', 'description'], axis=1, inplace=True)"
   ]
  },
  {
   "cell_type": "markdown",
   "metadata": {},
   "source": [
    "# -- STEFANOS -- `.str.split()` to Generic Python\n",
    "\n",
    "*Original time*: 700ms\n",
    "\n",
    "*Rewritten*: 183ms\n",
    "\n",
    "## Speedup: 3.8x"
   ]
  },
  {
   "cell_type": "code",
   "execution_count": 6,
   "metadata": {
    "execution": {
     "iopub.execute_input": "2022-11-03T12:30:24.353165Z",
     "iopub.status.busy": "2022-11-03T12:30:24.352806Z",
     "iopub.status.idle": "2022-11-03T12:30:24.364807Z",
     "shell.execute_reply": "2022-11-03T12:30:24.362893Z",
     "shell.execute_reply.started": "2022-11-03T12:30:24.353134Z"
    }
   },
   "outputs": [
    {
     "name": "stdout",
     "output_type": "stream",
     "text": [
      "CPU times: user 165 ms, sys: 12.3 ms, total: 177 ms\n",
      "Wall time: 177 ms\n"
     ]
    },
    {
     "name": "stderr",
     "output_type": "stream",
     "text": [
      "[IREWRITE JSON]\n",
      "{\n",
      "  \"raw\": \"\\ndf['original_price'] = df['original_price'].str.split('$')\\ndf['original_price'] = df['original_price'].str[1]\\n\",\n",
      "  \"modified\": \"if type(df['original_price']) != pd.Series:\\n    _REWR_res = df['original_price'].str.split('$')\\nelse:\\n    _REWR_targ_0 = []\\n    _REWR_ls = df['original_price'].tolist()\\n    for _REWR_s in _REWR_ls:\\n        _REWR_spl = _REWR_s.split('$')\\n        _REWR_targ_0.append(_REWR_spl[1] if len(_REWR_spl) > 1 else None)\\n    _REWR_res = _REWR_targ_0\\ndf['original_price'] = _REWR_res\\n\",\n",
      "  \"patts-hit\": {\n",
      "    \"FusableStrSplit\": 1\n",
      "  },\n",
      "  \"rewritten-exec-time\": 176.222266\n",
      "}\n",
      "[IREWRITE END JSON]\n"
     ]
    }
   ],
   "source": [
    "%%time\n",
    "%%rewrite\n",
    "\n",
    "df['original_price'] = df['original_price'].str.split('$')\n",
    "df['original_price'] = df['original_price'].str[1]"
   ]
  }
 ],
 "metadata": {
  "kernelspec": {
   "display_name": "Python 3 (ipykernel)",
   "language": "python",
   "name": "python3"
  },
  "language_info": {
   "codemirror_mode": {
    "name": "ipython",
    "version": 3
   },
   "file_extension": ".py",
   "mimetype": "text/x-python",
   "name": "python",
   "nbconvert_exporter": "python",
   "pygments_lexer": "ipython3",
   "version": "3.10.6"
  }
 },
 "nbformat": 4,
 "nbformat_minor": 4
}
