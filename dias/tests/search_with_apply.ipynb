{
 "cells": [
  {
   "cell_type": "markdown",
   "id": "e5b1fbdc",
   "metadata": {},
   "source": [
    "## NOTE: `%%time` counts the time that the rewriter takes to do the rewrite\n",
    "### I tested it by putting a sleep on the rewriter.\n",
    "The timings below are with `titanic_repl.csv`. But I replaced it in the code with `titanic.csv` so that the test does not take long to run."
   ]
  },
  {
   "cell_type": "code",
   "execution_count": 1,
   "id": "72dbcda0",
   "metadata": {},
   "outputs": [],
   "source": [
    "import pandas as pd\n",
    "import rewriter"
   ]
  },
  {
   "cell_type": "code",
   "execution_count": 2,
   "id": "3f253107",
   "metadata": {},
   "outputs": [],
   "source": [
    "df = pd.read_csv('titanic.csv')"
   ]
  },
  {
   "cell_type": "code",
   "execution_count": 3,
   "id": "56a2d9cf",
   "metadata": {},
   "outputs": [
    {
     "name": "stdout",
     "output_type": "stream",
     "text": [
      "CPU times: user 503 ms, sys: 43.7 ms, total: 546 ms\n",
      "Wall time: 545 ms\n"
     ]
    }
   ],
   "source": [
    "%%time\n",
    "blah = df['Name'].apply(lambda s: 'G' in s)"
   ]
  },
  {
   "cell_type": "code",
   "execution_count": 4,
   "id": "e6bcf00f",
   "metadata": {
    "scrolled": true
   },
   "outputs": [
    {
     "name": "stdout",
     "output_type": "stream",
     "text": [
      "CPU times: user 141 ms, sys: 44.3 ms, total: 185 ms\n",
      "Wall time: 185 ms\n"
     ]
    },
    {
     "name": "stderr",
     "output_type": "stream",
     "text": [
      "{\"raw\": \"blah = df['Name'].apply(lambda s: 'G' in s)\\n\",\n",
      "\"modified\": \"_REWR_tmp_0 = df['Name'].tolist()\\n_REWR_tmp_1 = [('G' in s) for s in _REWR_tmp_0]\\nblah = _REWR_tmp_1\\n\"},\n"
     ]
    }
   ],
   "source": [
    "%%time\n",
    "%%rewrite\n",
    "blah = df['Name'].apply(lambda s: 'G' in s)"
   ]
  },
  {
   "cell_type": "code",
   "execution_count": 5,
   "id": "731de812",
   "metadata": {},
   "outputs": [
    {
     "name": "stdout",
     "output_type": "stream",
     "text": [
      "CPU times: user 168 ms, sys: 32 ms, total: 200 ms\n",
      "Wall time: 199 ms\n"
     ]
    }
   ],
   "source": [
    "%%time\n",
    "# Without the rewriter. I tried it a bunch of times and it's slower, I don't know what is happening.\n",
    "_REWR_tmp_0 = df['Name'].tolist()\n",
    "_REWR_tmp_1 = [('G' in s) for s in _REWR_tmp_0]\n",
    "blah = _REWR_tmp_1"
   ]
  }
 ],
 "metadata": {
  "kernelspec": {
   "display_name": "Python 3 (ipykernel)",
   "language": "python",
   "name": "python3"
  },
  "language_info": {
   "codemirror_mode": {
    "name": "ipython",
    "version": 3
   },
   "file_extension": ".py",
   "mimetype": "text/x-python",
   "name": "python",
   "nbconvert_exporter": "python",
   "pygments_lexer": "ipython3",
   "version": "3.9.12"
  }
 },
 "nbformat": 4,
 "nbformat_minor": 5
}
