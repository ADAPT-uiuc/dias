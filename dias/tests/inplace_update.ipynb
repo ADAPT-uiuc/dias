{
 "cells": [
  {
   "cell_type": "markdown",
   "id": "1263f5a9",
   "metadata": {},
   "source": [
    "Note that with the `titanic_repl.csv` we have an even bigger speedup."
   ]
  },
  {
   "cell_type": "code",
   "execution_count": 1,
   "id": "7bbe2498",
   "metadata": {},
   "outputs": [],
   "source": [
    "import pandas as pd\n",
    "import rewriter"
   ]
  },
  {
   "cell_type": "code",
   "execution_count": 2,
   "id": "27deca53",
   "metadata": {},
   "outputs": [],
   "source": [
    "raw_x = pd.read_csv('titanic.csv')"
   ]
  },
  {
   "cell_type": "code",
   "execution_count": 3,
   "id": "8f47218d",
   "metadata": {},
   "outputs": [
    {
     "name": "stdout",
     "output_type": "stream",
     "text": [
      "CPU times: user 1.48 ms, sys: 155 µs, total: 1.63 ms\n",
      "Wall time: 1.33 ms\n"
     ]
    }
   ],
   "source": [
    "%%time\n",
    "# ORIGINAL\n",
    "raw_x[\"Age\"]=raw_x[\"Age\"].fillna(raw_x[\"Age\"].mean())"
   ]
  },
  {
   "cell_type": "code",
   "execution_count": 4,
   "id": "e0f3958c",
   "metadata": {},
   "outputs": [],
   "source": [
    "raw_x = pd.read_csv('titanic.csv')"
   ]
  },
  {
   "cell_type": "code",
   "execution_count": 5,
   "id": "b267924a",
   "metadata": {},
   "outputs": [
    {
     "name": "stdout",
     "output_type": "stream",
     "text": [
      "--------- Final Source -----------\n",
      "raw_x['Age'].fillna(raw_x['Age'].mean(), inplace=True)\n",
      "\n",
      "--------- End -----------\n",
      "CPU times: user 2.16 ms, sys: 247 µs, total: 2.41 ms\n",
      "Wall time: 1.9 ms\n"
     ]
    },
    {
     "name": "stderr",
     "output_type": "stream",
     "text": [
      "{\"raw\": \"raw_x[\\\"Age\\\"]=raw_x[\\\"Age\\\"].fillna(raw_x[\\\"Age\\\"].mean())\\n\",\n",
      "\"modified\": \"raw_x['Age'].fillna(raw_x['Age'].mean(), inplace=True)\\n\"},\n"
     ]
    }
   ],
   "source": [
    "%%time\n",
    "%%rewrite\n",
    "raw_x[\"Age\"]=raw_x[\"Age\"].fillna(raw_x[\"Age\"].mean())"
   ]
  }
 ],
 "metadata": {
  "kernelspec": {
   "display_name": "Python 3 (ipykernel)",
   "language": "python",
   "name": "python3"
  },
  "language_info": {
   "codemirror_mode": {
    "name": "ipython",
    "version": 3
   },
   "file_extension": ".py",
   "mimetype": "text/x-python",
   "name": "python",
   "nbconvert_exporter": "python",
   "pygments_lexer": "ipython3",
   "version": "3.9.12"
  }
 },
 "nbformat": 4,
 "nbformat_minor": 5
}
