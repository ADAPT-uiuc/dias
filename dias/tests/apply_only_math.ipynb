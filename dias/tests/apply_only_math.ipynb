{
 "cells": [
  {
   "cell_type": "code",
   "execution_count": 1,
   "metadata": {
    "_uuid": "c1fdd129c1cbab68ae3e6bf2062575f01f80b87c"
   },
   "outputs": [],
   "source": [
    "import pandas as pd\n",
    "import numpy as np\n",
    "import rewriter"
   ]
  },
  {
   "cell_type": "code",
   "execution_count": 2,
   "metadata": {},
   "outputs": [],
   "source": [
    "df1=pd.read_csv('./tests/datasets/ibtesama__getting-started-with-a-movie-recommendation-system__tmdb_5000_credits.csv')\n",
    "df2=pd.read_csv('./tests/datasets/ibtesama__getting-started-with-a-movie-recommendation-system__tmdb_5000_movies.csv')"
   ]
  },
  {
   "cell_type": "markdown",
   "metadata": {},
   "source": [
    "# -- STEFANOS -- Replicate Data"
   ]
  },
  {
   "cell_type": "code",
   "execution_count": 3,
   "metadata": {},
   "outputs": [
    {
     "name": "stdout",
     "output_type": "stream",
     "text": [
      "<class 'pandas.core.frame.DataFrame'>\n",
      "Int64Index: 200000 entries, 0 to 499\n",
      "Data columns (total 4 columns):\n",
      " #   Column    Non-Null Count   Dtype \n",
      "---  ------    --------------   ----- \n",
      " 0   movie_id  200000 non-null  int64 \n",
      " 1   title     200000 non-null  object\n",
      " 2   cast      200000 non-null  object\n",
      " 3   crew      200000 non-null  object\n",
      "dtypes: int64(1), object(3)\n",
      "memory usage: 7.6+ MB\n"
     ]
    }
   ],
   "source": [
    "factor = 400\n",
    "df1 = pd.concat([df1]*factor)\n",
    "df1.info()"
   ]
  },
  {
   "cell_type": "code",
   "execution_count": 4,
   "metadata": {},
   "outputs": [
    {
     "name": "stdout",
     "output_type": "stream",
     "text": [
      "<class 'pandas.core.frame.DataFrame'>\n",
      "Int64Index: 40000 entries, 0 to 499\n",
      "Data columns (total 20 columns):\n",
      " #   Column                Non-Null Count  Dtype  \n",
      "---  ------                --------------  -----  \n",
      " 0   budget                40000 non-null  int64  \n",
      " 1   genres                40000 non-null  object \n",
      " 2   homepage              24640 non-null  object \n",
      " 3   id                    40000 non-null  int64  \n",
      " 4   keywords              40000 non-null  object \n",
      " 5   original_language     40000 non-null  object \n",
      " 6   original_title        40000 non-null  object \n",
      " 7   overview              40000 non-null  object \n",
      " 8   popularity            40000 non-null  float64\n",
      " 9   production_companies  40000 non-null  object \n",
      " 10  production_countries  40000 non-null  object \n",
      " 11  release_date          40000 non-null  object \n",
      " 12  revenue               40000 non-null  int64  \n",
      " 13  runtime               40000 non-null  int64  \n",
      " 14  spoken_languages      40000 non-null  object \n",
      " 15  status                40000 non-null  object \n",
      " 16  tagline               38960 non-null  object \n",
      " 17  title                 40000 non-null  object \n",
      " 18  vote_average          40000 non-null  float64\n",
      " 19  vote_count            40000 non-null  int64  \n",
      "dtypes: float64(2), int64(5), object(13)\n",
      "memory usage: 6.4+ MB\n"
     ]
    }
   ],
   "source": [
    "factor = 80\n",
    "df2 = pd.concat([df2]*factor)\n",
    "df2.info()"
   ]
  },
  {
   "cell_type": "markdown",
   "metadata": {},
   "source": [
    "# -- STEFANOS -- Prelude"
   ]
  },
  {
   "cell_type": "code",
   "execution_count": 5,
   "metadata": {
    "_uuid": "c87bda9d56a936be126d03eda0bc743ee35be461"
   },
   "outputs": [
    {
     "name": "stdout",
     "output_type": "stream",
     "text": [
      "CPU times: user 1.6 s, sys: 866 ms, total: 2.46 s\n",
      "Wall time: 2.47 s\n"
     ]
    }
   ],
   "source": [
    "%%time\n",
    "df1.columns = ['id','tittle','cast','crew']\n",
    "df2= df2.merge(df1,on='id')"
   ]
  },
  {
   "cell_type": "code",
   "execution_count": 6,
   "metadata": {
    "_uuid": "5799b99c5e5ed5b7723ae8b31e1fc9fb1e7b89ec"
   },
   "outputs": [],
   "source": [
    "C= df2['vote_average'].mean()"
   ]
  },
  {
   "cell_type": "code",
   "execution_count": 7,
   "metadata": {
    "_uuid": "f2f1eaff1e4349b5d2d11dd5ce79c19a85561148"
   },
   "outputs": [],
   "source": [
    "m= df2['vote_count'].quantile(0.9)"
   ]
  },
  {
   "cell_type": "code",
   "execution_count": 8,
   "metadata": {
    "_uuid": "a22008df6d81d3b716d39a56efd3d547345bfbce"
   },
   "outputs": [
    {
     "data": {
      "text/plain": [
       "(1600000, 23)"
      ]
     },
     "execution_count": 8,
     "metadata": {},
     "output_type": "execute_result"
    }
   ],
   "source": [
    "q_movies = df2.copy().loc[df2['vote_count'] >= m]\n",
    "q_movies.shape"
   ]
  },
  {
   "cell_type": "markdown",
   "metadata": {},
   "source": [
    "# -- STEFANOS -- `apply()` with `axis=1` and only assignments and math\n",
    "\n",
    "*Original time*: 14.9s\n",
    "\n",
    "*Rewritten*: 13.4ms\n",
    "\n",
    "## Speedup: 1146x"
   ]
  },
  {
   "cell_type": "code",
   "execution_count": 9,
   "metadata": {
    "_uuid": "d2d189929715237ab19a18fb8747239b86092968"
   },
   "outputs": [
    {
     "name": "stdout",
     "output_type": "stream",
     "text": [
      "--------- Final Source -----------\n",
      "def weighted_rating(x, m=m, C=C):\n",
      "    v = x['vote_count']\n",
      "    R = x['vote_average']\n",
      "    return v / (v + m) * R + m / (m + v) * C\n",
      "q_movies['score'] = weighted_rating(q_movies)\n",
      "\n",
      "CPU times: user 42 ms, sys: 26.2 ms, total: 68.3 ms\n",
      "Wall time: 13.4 ms\n"
     ]
    }
   ],
   "source": [
    "%%time\n",
    "%%rewrite\n",
    "def weighted_rating(x, m=m, C=C):\n",
    "    v = x['vote_count']\n",
    "    R = x['vote_average']\n",
    "    # Calculation based on the IMDB formula\n",
    "    return (v/(v+m) * R) + (m/(m+v) * C)\n",
    "q_movies['score'] = q_movies.apply(weighted_rating, axis=1)"
   ]
  }
 ],
 "metadata": {
  "kernelspec": {
   "display_name": "Python 3 (ipykernel)",
   "language": "python",
   "name": "python3"
  },
  "language_info": {
   "codemirror_mode": {
    "name": "ipython",
    "version": 3
   },
   "file_extension": ".py",
   "mimetype": "text/x-python",
   "name": "python",
   "nbconvert_exporter": "python",
   "pygments_lexer": "ipython3",
   "version": "3.10.6"
  }
 },
 "nbformat": 4,
 "nbformat_minor": 4
}
