{
 "cells": [
  {
   "cell_type": "markdown",
   "metadata": {},
   "source": [
    "# Taken from:\n",
    "### `paultimothymooney/kaggle-survey-2022-all-results`"
   ]
  },
  {
   "cell_type": "code",
   "execution_count": 1,
   "metadata": {
    "_kg_hide-input": true,
    "execution": {
     "iopub.execute_input": "2022-10-06T13:49:58.538927Z",
     "iopub.status.busy": "2022-10-06T13:49:58.537986Z",
     "iopub.status.idle": "2022-10-06T13:50:00.923311Z",
     "shell.execute_reply": "2022-10-06T13:50:00.921674Z",
     "shell.execute_reply.started": "2022-10-06T13:49:58.538831Z"
    },
    "papermill": {
     "duration": 2.331679,
     "end_time": "2022-09-28T17:20:51.042024",
     "exception": false,
     "start_time": "2022-09-28T17:20:48.710345",
     "status": "completed"
    },
    "tags": []
   },
   "outputs": [],
   "source": [
    "import numpy as np \n",
    "import pandas as pd\n",
    "import rewriter"
   ]
  },
  {
   "cell_type": "markdown",
   "metadata": {},
   "source": [
    "# -- STEFANOS -- Prelude"
   ]
  },
  {
   "cell_type": "code",
   "execution_count": 2,
   "metadata": {
    "_cell_guid": "b1076dfc-b9ad-4769-8c92-a6c4dae69d19",
    "_kg_hide-input": true,
    "_uuid": "8f2839f25d086af736a60e9eeb907d3b93b6e0e5",
    "execution": {
     "iopub.execute_input": "2022-10-06T13:50:52.568313Z",
     "iopub.status.busy": "2022-10-06T13:50:52.567125Z",
     "iopub.status.idle": "2022-10-06T13:51:00.265935Z",
     "shell.execute_reply": "2022-10-06T13:51:00.264743Z",
     "shell.execute_reply.started": "2022-10-06T13:50:52.568247Z"
    },
    "papermill": {
     "duration": 17.213309,
     "end_time": "2022-09-28T17:21:08.56738",
     "exception": false,
     "start_time": "2022-09-28T17:20:51.354071",
     "status": "completed"
    },
    "tags": []
   },
   "outputs": [],
   "source": [
    "file_path = './tests/datasets/paultimothymooney__kaggle-survey-2022-all-results__multipleChoiceResponses__sample.csv'\n",
    "responses_df_2018 = pd.read_csv(file_path,low_memory=False,encoding='ISO-8859-1')"
   ]
  },
  {
   "cell_type": "markdown",
   "metadata": {},
   "source": [
    "We load a sample and replicate it to save space on disk."
   ]
  },
  {
   "cell_type": "code",
   "execution_count": 3,
   "metadata": {},
   "outputs": [],
   "source": [
    "responses_df_2018 = pd.concat([responses_df_2018]*25)"
   ]
  },
  {
   "cell_type": "code",
   "execution_count": 4,
   "metadata": {},
   "outputs": [
    {
     "name": "stdout",
     "output_type": "stream",
     "text": [
      "<class 'pandas.core.frame.DataFrame'>\n",
      "Int64Index: 25000 entries, 0 to 999\n",
      "Columns: 395 entries, Duration (in seconds) to What barriers prevent you from making your work even easier to reuse and reproduce? (Select all that apply) - Other - Text\n",
      "dtypes: float64(15), int64(36), object(344)\n",
      "memory usage: 75.5+ MB\n"
     ]
    }
   ],
   "source": [
    "responses_df_2018.info()"
   ]
  },
  {
   "cell_type": "code",
   "execution_count": 5,
   "metadata": {},
   "outputs": [],
   "source": [
    "responses_df_2018 = responses_df_2018[responses_df_2018.columns.drop(list(responses_df_2018.filter(regex='- Text')))]"
   ]
  },
  {
   "cell_type": "code",
   "execution_count": 6,
   "metadata": {},
   "outputs": [
    {
     "name": "stdout",
     "output_type": "stream",
     "text": [
      "CPU times: user 2.11 ms, sys: 0 ns, total: 2.11 ms\n",
      "Wall time: 1.97 ms\n"
     ]
    }
   ],
   "source": [
    "%%time\n",
    "subset_of_countries = ['Other','India','United States of America','Brazil','Nigeria','Pakistan','Japan','China','Egypt','Indonesia','Mexico','Turkey','Russia']\n",
    "question_name = 'In which country do you currently reside?'\n",
    "responses_df_2018[question_name][~responses_df_2018[question_name].isin(subset_of_countries)] = \"Other\""
   ]
  },
  {
   "cell_type": "code",
   "execution_count": 7,
   "metadata": {
    "_kg_hide-input": true,
    "execution": {
     "iopub.execute_input": "2022-10-06T13:51:03.841267Z",
     "iopub.status.busy": "2022-10-06T13:51:03.840704Z",
     "iopub.status.idle": "2022-10-06T13:51:03.955095Z",
     "shell.execute_reply": "2022-10-06T13:51:03.954334Z",
     "shell.execute_reply.started": "2022-10-06T13:51:03.841236Z"
    },
    "papermill": {
     "duration": 0.147328,
     "end_time": "2022-09-28T17:21:12.65641",
     "exception": false,
     "start_time": "2022-09-28T17:21:12.509082",
     "status": "completed"
    },
    "tags": []
   },
   "outputs": [],
   "source": [
    "question_of_interest = 'What is your age (# years)?'\n",
    "responses_df_2018[question_of_interest].replace(['70-79','80+'], '70+',inplace=True)"
   ]
  },
  {
   "cell_type": "code",
   "execution_count": 8,
   "metadata": {
    "_kg_hide-input": true,
    "execution": {
     "iopub.execute_input": "2022-10-06T13:51:04.042179Z",
     "iopub.status.busy": "2022-10-06T13:51:04.041626Z",
     "iopub.status.idle": "2022-10-06T13:51:04.203443Z",
     "shell.execute_reply": "2022-10-06T13:51:04.202117Z",
     "shell.execute_reply.started": "2022-10-06T13:51:04.042144Z"
    },
    "papermill": {
     "duration": 0.195,
     "end_time": "2022-09-28T17:21:13.032505",
     "exception": false,
     "start_time": "2022-09-28T17:21:12.837505",
     "status": "completed"
    },
    "tags": []
   },
   "outputs": [],
   "source": [
    "responses_df_2018['What is your gender? - Selected Choice'].replace(['Male'], 'Man',inplace=True)\n",
    "responses_df_2018['What is your gender? - Selected Choice'].replace(['Female'], 'Woman',inplace=True)"
   ]
  },
  {
   "cell_type": "code",
   "execution_count": 9,
   "metadata": {},
   "outputs": [
    {
     "name": "stdout",
     "output_type": "stream",
     "text": [
      "CPU times: user 1.05 ms, sys: 0 ns, total: 1.05 ms\n",
      "Wall time: 1.02 ms\n"
     ]
    },
    {
     "name": "stderr",
     "output_type": "stream",
     "text": [
      "<timed exec>:6: FutureWarning: The default value of regex will change from True to False in a future version.\n"
     ]
    }
   ],
   "source": [
    "%%time\n",
    "question_of_interest = 'On which platforms have you begun or completed data science courses'\n",
    "question_of_interest_alternate = 'On which online platforms have you begun or completed data science courses'\n",
    "responses_df_2018.columns = responses_df_2018.columns.str.replace(question_of_interest_alternate, question_of_interest)\n",
    "\n",
    "responses_df_2018.columns = responses_df_2018.columns.str.replace('Kaggle Learn', 'Kaggle Learn Courses',regex=False)\n",
    "responses_df_2018.columns = responses_df_2018.columns.str.replace('Fast.AI', 'Fast.ai')\n",
    "responses_df_2018.columns = responses_df_2018.columns.str.replace('Online University Courses', 'University Courses (resulting in a university degree)',regex=False)"
   ]
  },
  {
   "cell_type": "markdown",
   "metadata": {},
   "source": [
    "# -- STEFANOS -- `ReplaceRemoveList`\n",
    "\n",
    "*Original time*: 1.78s\n",
    "\n",
    "*Rewritten*: 491ms\n",
    "\n",
    "## Speedup: 3.6x"
   ]
  },
  {
   "cell_type": "code",
   "execution_count": 10,
   "metadata": {},
   "outputs": [
    {
     "name": "stdout",
     "output_type": "stream",
     "text": [
      "CPU times: user 425 ms, sys: 73.6 ms, total: 498 ms\n",
      "Wall time: 498 ms\n"
     ]
    },
    {
     "name": "stderr",
     "output_type": "stream",
     "text": [
      "[IREWRITE JSON]\n",
      "{\n",
      "  \"raw\": \"\\nresponses_df_2018.replace(['Kaggle Learn'], 'Kaggle Learn Courses',inplace=True)\\nresponses_df_2018.replace(['Fast.AI'], 'Fast.ai',inplace=True)\\nresponses_df_2018.replace(['Online University Courses'], 'University Courses (resulting in a university degree)',inplace=True)\\n\",\n",
      "  \"modified\": \"responses_df_2018.replace('Kaggle Learn', 'Kaggle Learn Courses', inplace=True)\\nresponses_df_2018.replace('Fast.AI', 'Fast.ai', inplace=True)\\nresponses_df_2018.replace('Online University Courses',\\n    'University Courses (resulting in a university degree)', inplace=True)\\n\",\n",
      "  \"patts-hit\": {},\n",
      "  \"rewritten-exec-time\": 497.303329\n",
      "}\n",
      "[IREWRITE END JSON]\n"
     ]
    }
   ],
   "source": [
    "%%time\n",
    "%%rewrite\n",
    "\n",
    "responses_df_2018.replace(['Kaggle Learn'], 'Kaggle Learn Courses',inplace=True)\n",
    "responses_df_2018.replace(['Fast.AI'], 'Fast.ai',inplace=True)\n",
    "responses_df_2018.replace(['Online University Courses'], 'University Courses (resulting in a university degree)',inplace=True)"
   ]
  }
 ],
 "metadata": {
  "kernelspec": {
   "display_name": "Python 3 (ipykernel)",
   "language": "python",
   "name": "python3"
  },
  "language_info": {
   "codemirror_mode": {
    "name": "ipython",
    "version": 3
   },
   "file_extension": ".py",
   "mimetype": "text/x-python",
   "name": "python",
   "nbconvert_exporter": "python",
   "pygments_lexer": "ipython3",
   "version": "3.10.6"
  }
 },
 "nbformat": 4,
 "nbformat_minor": 4
}
