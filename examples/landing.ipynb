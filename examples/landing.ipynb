{
 "cells": [
  {
   "cell_type": "markdown",
   "id": "b493caf9",
   "metadata": {},
   "source": [
    "The example on the front page but with more realistic data."
   ]
  },
  {
   "cell_type": "code",
   "execution_count": 1,
   "id": "02f7cf5c",
   "metadata": {},
   "outputs": [],
   "source": [
    "import pandas as pd\n",
    "import dias.rewriter\n",
    "import urllib.request\n",
    "import os"
   ]
  },
  {
   "cell_type": "code",
   "execution_count": 2,
   "id": "d82189ec",
   "metadata": {},
   "outputs": [],
   "source": [
    "# Download the dataset. Source: https://www.kaggle.com/datasets/rounakbanik/the-movies-dataset\n",
    "url = 'https://uofi.box.com/shared/static/5qi9jcuyn70k6t5z0e9208elqxr01qks.csv'\n",
    "filename = 'tmdb_metadata.csv'\n",
    "urllib.request.urlretrieve(url, filename)\n",
    "assert os.path.isfile(filename)"
   ]
  },
  {
   "cell_type": "code",
   "execution_count": 3,
   "id": "9b1ae907",
   "metadata": {},
   "outputs": [],
   "source": [
    "df = pd.read_csv('tmdb_metadata.csv', low_memory=False)\n",
    "# Replicate the dataset slightly so that we can see clear effects.\n",
    "df = pd.concat([df]*50, ignore_index=True)"
   ]
  },
  {
   "cell_type": "code",
   "execution_count": 4,
   "id": "ebd94599",
   "metadata": {},
   "outputs": [],
   "source": [
    "m = 50\n",
    "C = 5.6"
   ]
  },
  {
   "cell_type": "markdown",
   "id": "2b47a85e",
   "metadata": {},
   "source": [
    "## Original\n",
    "\n",
    "A simple function appearing in recommender systems (e.g., this comes from \"Hands-On Recommendation Systems with Python\" by Rounak Banik, Chapter \"Building An IMDB Top 250 Clone With Pandas\" > \"The simple recommender\")."
   ]
  },
  {
   "cell_type": "code",
   "execution_count": 5,
   "id": "a8dee780",
   "metadata": {},
   "outputs": [
    {
     "name": "stdout",
     "output_type": "stream",
     "text": [
      "CPU times: user 9.27 s, sys: 560 ms, total: 9.83 s\n",
      "Wall time: 9.83 s\n"
     ]
    }
   ],
   "source": [
    "%%time\n",
    "# DIAS_DISABLE\n",
    "def weighted_rating(x, m=m, C=C):\n",
    "    v = x['vote_count']\n",
    "    R = x['vote_average']\n",
    "    return (v/(v+m) * R) + (m/(m+v) * C)\n",
    "orig = df.apply(weighted_rating, axis=1)"
   ]
  },
  {
   "cell_type": "markdown",
   "id": "09970aa9",
   "metadata": {},
   "source": [
    "## With Dias\n",
    "\n",
    "Dias rewrites the code to be about **634x faster**."
   ]
  },
  {
   "cell_type": "code",
   "execution_count": 6,
   "id": "7981de4e",
   "metadata": {
    "scrolled": false
   },
   "outputs": [
    {
     "name": "stdout",
     "output_type": "stream",
     "text": [
      "CPU times: user 89.8 ms, sys: 2.8 ms, total: 92.6 ms\n",
      "Wall time: 15.5 ms\n"
     ]
    }
   ],
   "source": [
    "%%time\n",
    "def weighted_rating(x, m=m, C=C):\n",
    "    v = x['vote_count']\n",
    "    R = x['vote_average']\n",
    "    return (v/(v+m) * R) + (m/(m+v) * C)\n",
    "rewr = df.apply(weighted_rating, axis=1)"
   ]
  },
  {
   "cell_type": "markdown",
   "id": "ace91520",
   "metadata": {},
   "source": [
    "## Correctness check\n",
    "\n",
    "We drop the NaNs because comparisons are always false."
   ]
  },
  {
   "cell_type": "code",
   "execution_count": 7,
   "id": "ad0929fb",
   "metadata": {},
   "outputs": [],
   "source": [
    "assert (orig.dropna() == rewr.dropna()).all()"
   ]
  }
 ],
 "metadata": {
  "kernelspec": {
   "display_name": "Python 3 (ipykernel)",
   "language": "python",
   "name": "python3"
  },
  "language_info": {
   "codemirror_mode": {
    "name": "ipython",
    "version": 3
   },
   "file_extension": ".py",
   "mimetype": "text/x-python",
   "name": "python",
   "nbconvert_exporter": "python",
   "pygments_lexer": "ipython3",
   "version": "3.10.6"
  },
  "vscode": {
   "interpreter": {
    "hash": "25a85ffc1ee6b1f9c80154a21758c241ae075130da97341aa9385183b41bb161"
   }
  }
 },
 "nbformat": 4,
 "nbformat_minor": 5
}
