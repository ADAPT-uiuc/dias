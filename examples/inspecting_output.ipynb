{
 "cells": [
  {
   "cell_type": "markdown",
   "id": "a1d891fb",
   "metadata": {},
   "source": [
    "Dias' output is standard Python code, and so, for example, you do not need to know anything about Dias to know why you got a speedup. Similarly, you can just copy Dias' output and use it as any other Python code.\n",
    "\n",
    "We just use `# DIAS_VERBOSE` to see Dias' output. In the example below, we reproduce the [crossing boundaries example](https://github.com/baziotis/dias-readme-test/blob/main/examples/crossing-boundaries.ipynb). We see that Dias uses `pd.concat()` instead of converting to lists, concatenating them, and then converting to a `pd.Series`."
   ]
  },
  {
   "cell_type": "code",
   "execution_count": 1,
   "id": "97211388",
   "metadata": {},
   "outputs": [],
   "source": [
    "import pandas as pd\n",
    "import dias.rewriter\n",
    "import numpy as np\n",
    "rand_arr = np.random.rand(2_500_000,20)\n",
    "df = pd.DataFrame(rand_arr)"
   ]
  },
  {
   "cell_type": "code",
   "execution_count": 2,
   "id": "0dd33722",
   "metadata": {},
   "outputs": [
    {
     "data": {
      "text/markdown": [
       "\n",
       "### Dias rewrote code:\n",
       "<br />\n",
       "\n",
       "```python\n",
       "_ = pd.concat([df[0], df[1]], ignore_index=True)\n",
       "\n",
       "```\n"
      ],
      "text/plain": [
       "<IPython.core.display.Markdown object>"
      ]
     },
     "metadata": {},
     "output_type": "display_data"
    }
   ],
   "source": [
    "# DIAS_VERBOSE\n",
    "_ = pd.Series(df[0].tolist() + df[1].tolist())"
   ]
  }
 ],
 "metadata": {
  "kernelspec": {
   "display_name": "Python 3 (ipykernel)",
   "language": "python",
   "name": "python3"
  },
  "language_info": {
   "codemirror_mode": {
    "name": "ipython",
    "version": 3
   },
   "file_extension": ".py",
   "mimetype": "text/x-python",
   "name": "python",
   "nbconvert_exporter": "python",
   "pygments_lexer": "ipython3",
   "version": "3.10.6"
  }
 },
 "nbformat": 4,
 "nbformat_minor": 5
}
