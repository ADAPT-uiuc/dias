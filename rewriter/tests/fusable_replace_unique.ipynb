{
 "cells": [
  {
   "cell_type": "code",
   "execution_count": 1,
   "metadata": {
    "_cell_guid": "b1076dfc-b9ad-4769-8c92-a6c4dae69d19",
    "_kg_hide-input": true,
    "_uuid": "8f2839f25d086af736a60e9eeb907d3b93b6e0e5"
   },
   "outputs": [],
   "source": [
    "import numpy as np\n",
    "import pandas as pd\n",
    "import rewriter"
   ]
  },
  {
   "cell_type": "code",
   "execution_count": 2,
   "metadata": {
    "_kg_hide-input": true
   },
   "outputs": [],
   "source": [
    "df = pd.read_csv('./tests/datasets/joshuaswords__netflix-data-visualization__netflix_titles.csv')"
   ]
  },
  {
   "cell_type": "markdown",
   "metadata": {},
   "source": [
    "# -- STEFANOS -- Replicate Data"
   ]
  },
  {
   "cell_type": "code",
   "execution_count": 3,
   "metadata": {},
   "outputs": [],
   "source": [
    "factor = 500\n",
    "df = pd.concat([df]*factor)"
   ]
  },
  {
   "cell_type": "code",
   "execution_count": 4,
   "metadata": {},
   "outputs": [
    {
     "name": "stdout",
     "output_type": "stream",
     "text": [
      "<class 'pandas.core.frame.DataFrame'>\n",
      "Int64Index: 4403500 entries, 0 to 8806\n",
      "Data columns (total 12 columns):\n",
      " #   Column        Dtype \n",
      "---  ------        ----- \n",
      " 0   show_id       object\n",
      " 1   type          object\n",
      " 2   title         object\n",
      " 3   director      object\n",
      " 4   cast          object\n",
      " 5   country       object\n",
      " 6   date_added    object\n",
      " 7   release_year  int64 \n",
      " 8   rating        object\n",
      " 9   duration      object\n",
      " 10  listed_in     object\n",
      " 11  description   object\n",
      "dtypes: int64(1), object(11)\n",
      "memory usage: 436.7+ MB\n"
     ]
    }
   ],
   "source": [
    "df.info()"
   ]
  },
  {
   "cell_type": "markdown",
   "metadata": {},
   "source": [
    "# -- STEFANOS -- Fuse `.replace()` and `.unique()`\n",
    "\n",
    "*Original time*: 1.49s\n",
    "\n",
    "*Rewritten*: 463ms\n",
    "\n",
    "## Speedup: 3.2x"
   ]
  },
  {
   "cell_type": "code",
   "execution_count": 5,
   "metadata": {},
   "outputs": [
    {
     "data": {
      "text/plain": [
       "{'66 min', '74 min', '84 min', 'Adults', 'Kids', 'Older Kids', 'Teens', nan}"
      ]
     },
     "execution_count": 5,
     "metadata": {},
     "output_type": "execute_result"
    },
    {
     "name": "stdout",
     "output_type": "stream",
     "text": [
      "--------- Final Source -----------\n",
      "ratings_ages = {'TV-PG': 'Older Kids', 'TV-MA': 'Adults', 'TV-Y7-FV':\n",
      "    'Older Kids', 'TV-Y7': 'Older Kids', 'TV-14': 'Teens', 'R': 'Adults',\n",
      "    'TV-Y': 'Kids', 'NR': 'Adults', 'PG-13': 'Teens', 'TV-G': 'Kids', 'PG':\n",
      "    'Older Kids', 'G': 'Kids', 'UR': 'Adults', 'NC-17': 'Adults'}\n",
      "if type(df['rating']) == pd.Series and type(ratings_ages) == dict:\n",
      "    _REWR_res = []\n",
      "    _REWR_uniq = set()\n",
      "    for _REWR_s in df['rating'].tolist():\n",
      "        try:\n",
      "            _REWR_s = ratings_ages[_REWR_s]\n",
      "        except:\n",
      "            pass\n",
      "        _REWR_res.append(_REWR_s)\n",
      "        _REWR_uniq.add(_REWR_s)\n",
      "    df['target_ages'] = _REWR_res\n",
      "    _REWR_temp_res = _REWR_uniq\n",
      "else:\n",
      "    df['target_ages'] = df['rating'].replace(ratings_ages)\n",
      "    _REWR_temp_res = df['target_ages'].unique()\n",
      "_REWR_temp_res\n",
      "\n",
      "CPU times: user 473 ms, sys: 33 ms, total: 506 ms\n",
      "Wall time: 506 ms\n"
     ]
    }
   ],
   "source": [
    "%%time\n",
    "%%rewrite\n",
    "\n",
    "ratings_ages = {\n",
    "    'TV-PG': 'Older Kids',\n",
    "    'TV-MA': 'Adults',\n",
    "    'TV-Y7-FV': 'Older Kids',\n",
    "    'TV-Y7': 'Older Kids',\n",
    "    'TV-14': 'Teens',\n",
    "    'R': 'Adults',\n",
    "    'TV-Y': 'Kids',\n",
    "    'NR': 'Adults',\n",
    "    'PG-13': 'Teens',\n",
    "    'TV-G': 'Kids',\n",
    "    'PG': 'Older Kids',\n",
    "    'G': 'Kids',\n",
    "    'UR': 'Adults',\n",
    "    'NC-17': 'Adults'\n",
    "}\n",
    "\n",
    "df['target_ages'] = df['rating'].replace(ratings_ages)\n",
    "df['target_ages'].unique()"
   ]
  },
  {
   "cell_type": "code",
   "execution_count": 6,
   "metadata": {},
   "outputs": [],
   "source": [
    "# Use the LHS sub of the replace later. Make sure we don't have a KeyError.\n",
    "_ = df['target_ages']"
   ]
  }
 ],
 "metadata": {
  "kernelspec": {
   "display_name": "Python 3 (ipykernel)",
   "language": "python",
   "name": "python3"
  },
  "language_info": {
   "codemirror_mode": {
    "name": "ipython",
    "version": 3
   },
   "file_extension": ".py",
   "mimetype": "text/x-python",
   "name": "python",
   "nbconvert_exporter": "python",
   "pygments_lexer": "ipython3",
   "version": "3.10.6"
  }
 },
 "nbformat": 4,
 "nbformat_minor": 4
}
