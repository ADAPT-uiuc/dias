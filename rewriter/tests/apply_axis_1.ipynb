{
 "cells": [
  {
   "cell_type": "markdown",
   "id": "26ad4491",
   "metadata": {},
   "source": [
    "Timings are with `titanic_repl.csv`"
   ]
  },
  {
   "cell_type": "markdown",
   "id": "2b65c5d5",
   "metadata": {},
   "source": [
    "### Further imporvement\n",
    "You can drop to numpy by `np.vectorize()` the function and then applying it to `df['Fare'].to_numpy()`. In this case, the speedup is small (going to ~650ms) but for bigger datasets, it may make a difference."
   ]
  },
  {
   "cell_type": "code",
   "execution_count": 1,
   "id": "8ea6abdf",
   "metadata": {},
   "outputs": [],
   "source": [
    "import pandas as pd\n",
    "import rewriter"
   ]
  },
  {
   "cell_type": "code",
   "execution_count": 2,
   "id": "52e1dab0",
   "metadata": {},
   "outputs": [
    {
     "name": "stdout",
     "output_type": "stream",
     "text": [
      "--------- Final Source -----------\n",
      "\n",
      "df = pd.read_csv('titanic_repl.csv')\n",
      "\n"
     ]
    }
   ],
   "source": [
    "%%rewrite\n",
    "df = pd.read_csv('titanic.csv')"
   ]
  },
  {
   "cell_type": "code",
   "execution_count": 3,
   "id": "c8f1d195",
   "metadata": {},
   "outputs": [],
   "source": [
    "def foo(row):\n",
    "    if row['Fare'] > 10:\n",
    "        return True\n",
    "    return False"
   ]
  },
  {
   "cell_type": "code",
   "execution_count": 4,
   "id": "258ec42b",
   "metadata": {},
   "outputs": [
    {
     "name": "stdout",
     "output_type": "stream",
     "text": [
      "--------- Final Source -----------\n",
      "def _REWR_tmp_0(row):\n",
      "    if row > 10:\n",
      "        return True\n",
      "    return False\n",
      "our = df['Fare'].apply(_REWR_tmp_0)\n",
      "\n",
      "CPU times: user 675 ms, sys: 83.5 ms, total: 759 ms\n",
      "Wall time: 758 ms\n"
     ]
    }
   ],
   "source": [
    "%%time\n",
    "%%rewrite\n",
    "our = df.apply(foo, axis=1)"
   ]
  },
  {
   "cell_type": "code",
   "execution_count": 5,
   "id": "9955a925",
   "metadata": {},
   "outputs": [
    {
     "name": "stdout",
     "output_type": "stream",
     "text": [
      "CPU times: user 27.3 s, sys: 862 ms, total: 28.1 s\n",
      "Wall time: 28.1 s\n"
     ]
    }
   ],
   "source": [
    "%%time\n",
    "defa = df.apply(foo, axis=1)"
   ]
  },
  {
   "cell_type": "code",
   "execution_count": 7,
   "id": "9be7e9a8",
   "metadata": {},
   "outputs": [
    {
     "name": "stdout",
     "output_type": "stream",
     "text": [
      "CPU times: user 672 ms, sys: 76 ms, total: 748 ms\n",
      "Wall time: 746 ms\n"
     ]
    },
    {
     "data": {
      "text/plain": [
       "0          False\n",
       "1           True\n",
       "2          False\n",
       "3           True\n",
       "4          False\n",
       "           ...  \n",
       "4454995     True\n",
       "4454996     True\n",
       "4454997     True\n",
       "4454998     True\n",
       "4454999    False\n",
       "Name: Fare, Length: 4455000, dtype: bool"
      ]
     },
     "execution_count": 7,
     "metadata": {},
     "output_type": "execute_result"
    }
   ],
   "source": [
    "%%time\n",
    "df['Fare'].apply(_REWR_tmp_0)"
   ]
  },
  {
   "cell_type": "code",
   "execution_count": 6,
   "id": "09ad7f1b",
   "metadata": {},
   "outputs": [],
   "source": [
    "assert (our == defa).all()"
   ]
  }
 ],
 "metadata": {
  "kernelspec": {
   "display_name": "Python 3 (ipykernel)",
   "language": "python",
   "name": "python3"
  },
  "language_info": {
   "codemirror_mode": {
    "name": "ipython",
    "version": 3
   },
   "file_extension": ".py",
   "mimetype": "text/x-python",
   "name": "python",
   "nbconvert_exporter": "python",
   "pygments_lexer": "ipython3",
   "version": "3.9.12"
  }
 },
 "nbformat": 4,
 "nbformat_minor": 5
}
