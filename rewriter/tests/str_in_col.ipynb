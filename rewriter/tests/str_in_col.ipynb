{
 "cells": [
  {
   "cell_type": "markdown",
   "metadata": {},
   "source": [
    "# Taken from:\n",
    "### `dataranch/supermarket-sales-prediction-xgboost-fastai`"
   ]
  },
  {
   "cell_type": "code",
   "execution_count": 1,
   "metadata": {
    "execution": {
     "iopub.execute_input": "2022-11-05T19:21:28.521758Z",
     "iopub.status.busy": "2022-11-05T19:21:28.520864Z",
     "iopub.status.idle": "2022-11-05T19:21:28.538676Z",
     "shell.execute_reply": "2022-11-05T19:21:28.537248Z",
     "shell.execute_reply.started": "2022-11-05T19:21:28.521705Z"
    },
    "papermill": {
     "duration": 7.638058,
     "end_time": "2022-10-07T15:11:23.043238",
     "exception": false,
     "start_time": "2022-10-07T15:11:15.40518",
     "status": "completed"
    },
    "tags": []
   },
   "outputs": [],
   "source": [
    "import pandas as pd\n",
    "import numpy as np\n",
    "import rewriter"
   ]
  },
  {
   "cell_type": "code",
   "execution_count": 2,
   "metadata": {
    "execution": {
     "iopub.execute_input": "2022-11-05T19:21:28.628565Z",
     "iopub.status.busy": "2022-11-05T19:21:28.628057Z",
     "iopub.status.idle": "2022-11-05T19:21:28.653679Z",
     "shell.execute_reply": "2022-11-05T19:21:28.652719Z",
     "shell.execute_reply.started": "2022-11-05T19:21:28.628534Z"
    },
    "papermill": {
     "duration": 0.043613,
     "end_time": "2022-10-07T15:11:23.318836",
     "exception": false,
     "start_time": "2022-10-07T15:11:23.275223",
     "status": "completed"
    },
    "tags": []
   },
   "outputs": [],
   "source": [
    "df = pd.read_csv('tests/datasets/dataranch__supermarket-sales-prediction-xgboost-fastai__SampleSuperstore.csv')"
   ]
  },
  {
   "cell_type": "markdown",
   "metadata": {},
   "source": [
    "# -- STEFANOS -- Replicate Data"
   ]
  },
  {
   "cell_type": "code",
   "execution_count": 3,
   "metadata": {},
   "outputs": [
    {
     "name": "stdout",
     "output_type": "stream",
     "text": [
      "<class 'pandas.core.frame.DataFrame'>\n",
      "Int64Index: 99940 entries, 0 to 9993\n",
      "Data columns (total 13 columns):\n",
      " #   Column        Non-Null Count  Dtype  \n",
      "---  ------        --------------  -----  \n",
      " 0   Ship Mode     99940 non-null  object \n",
      " 1   Segment       99940 non-null  object \n",
      " 2   Country       99940 non-null  object \n",
      " 3   City          99940 non-null  object \n",
      " 4   State         99940 non-null  object \n",
      " 5   Postal Code   99940 non-null  int64  \n",
      " 6   Region        99940 non-null  object \n",
      " 7   Category      99940 non-null  object \n",
      " 8   Sub-Category  99940 non-null  object \n",
      " 9   Sales         99940 non-null  float64\n",
      " 10  Quantity      99940 non-null  int64  \n",
      " 11  Discount      99940 non-null  float64\n",
      " 12  Profit        99940 non-null  float64\n",
      "dtypes: float64(3), int64(2), object(8)\n",
      "memory usage: 10.7+ MB\n"
     ]
    }
   ],
   "source": [
    "factor = 10\n",
    "df = pd.concat([df]*factor)\n",
    "df.info()"
   ]
  },
  {
   "cell_type": "markdown",
   "metadata": {},
   "source": [
    "## `x in df[col].to_string()` to `df[col].astype(str).str.contains(x).any()`\n",
    "\n",
    "*Original*: 9.71s\n",
    "\n",
    "*Rewritten*: 641ms\n",
    "\n",
    "## Speedup: 15x"
   ]
  },
  {
   "cell_type": "code",
   "execution_count": 4,
   "metadata": {
    "execution": {
     "iopub.execute_input": "2022-11-05T19:21:28.655934Z",
     "iopub.status.busy": "2022-11-05T19:21:28.654941Z",
     "iopub.status.idle": "2022-11-05T19:21:29.331938Z",
     "shell.execute_reply": "2022-11-05T19:21:29.330907Z",
     "shell.execute_reply.started": "2022-11-05T19:21:28.6559Z"
    },
    "papermill": {
     "duration": 0.243518,
     "end_time": "2022-10-07T15:11:23.576548",
     "exception": false,
     "start_time": "2022-10-07T15:11:23.33303",
     "status": "completed"
    },
    "tags": []
   },
   "outputs": [
    {
     "name": "stdout",
     "output_type": "stream",
     "text": [
      "CPU times: user 636 ms, sys: 13.5 ms, total: 650 ms\n",
      "Wall time: 649 ms\n"
     ]
    }
   ],
   "source": [
    "%%time\n",
    "%%rewrite\n",
    "for col in df.columns:\n",
    "    if '%' in df[col].to_string() or ',' in df[col].to_string():\n",
    "        pass"
   ]
  }
 ],
 "metadata": {
  "kernelspec": {
   "display_name": "Python 3 (ipykernel)",
   "language": "python",
   "name": "python3"
  },
  "language_info": {
   "codemirror_mode": {
    "name": "ipython",
    "version": 3
   },
   "file_extension": ".py",
   "mimetype": "text/x-python",
   "name": "python",
   "nbconvert_exporter": "python",
   "pygments_lexer": "ipython3",
   "version": "3.10.6"
  }
 },
 "nbformat": 4,
 "nbformat_minor": 4
}
