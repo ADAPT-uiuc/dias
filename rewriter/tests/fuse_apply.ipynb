{
 "cells": [
  {
   "cell_type": "code",
   "execution_count": 1,
   "metadata": {
    "_cell_guid": "78fea705-f9ad-4a81-aafd-8b7b624110d1",
    "_uuid": "1c291fe3725c706e0003f01f0102abb9709f25fc"
   },
   "outputs": [],
   "source": [
    "import pandas as pd\n",
    "import numpy as np\n",
    "from ast import literal_eval\n",
    "import rewriter"
   ]
  },
  {
   "cell_type": "code",
   "execution_count": 2,
   "metadata": {
    "_cell_guid": "0356d2a0-d8b2-4234-af78-bd51eaa3a390",
    "_uuid": "e0d62612bc9b9e9561afdc48fd1e75a9b0c82337"
   },
   "outputs": [],
   "source": [
    "md = pd.read_csv('./tests/datasets/rounakbanik__movie-recommender-systems__movies_metadata.csv', low_memory=False)"
   ]
  },
  {
   "cell_type": "markdown",
   "metadata": {},
   "source": [
    "# -- STEFANOS -- Replicate Data"
   ]
  },
  {
   "cell_type": "code",
   "execution_count": 3,
   "metadata": {},
   "outputs": [],
   "source": [
    "factor = 20\n",
    "md = pd.concat([md]*factor)"
   ]
  },
  {
   "cell_type": "markdown",
   "metadata": {},
   "source": [
    "# -- STEFANOS -- Fuse `apply()`\n",
    "\n",
    "*Original*: 1.32s\n",
    "\n",
    "*Rewritten*: 1.1s\n",
    "\n",
    "## Speedup: 1.2x\n",
    "\n",
    "Here the speedup is small which makes sense because this is basically a cache-related transformation and you need to have a bunch of data to see the effect. I don't replicate data much here because this is a test not a benchmark and we don't want it to run for long."
   ]
  },
  {
   "cell_type": "code",
   "execution_count": 4,
   "metadata": {
    "_cell_guid": "f933a861-409a-4df7-98f1-7960a2a3874b",
    "_uuid": "d4df4c2158595611f2ea7ad4b16f71900e529ea8"
   },
   "outputs": [
    {
     "name": "stdout",
     "output_type": "stream",
     "text": [
      "--------- Final Source -----------\n",
      "def _REWR_fused_apply(_REWR_ser):\n",
      "    if type(_REWR_ser) == pd.Series:\n",
      "        _REWR_res = []\n",
      "        _REWR_ls = _REWR_ser.tolist()\n",
      "        for _REWR_it in _REWR_ls:\n",
      "            _REWR_left = literal_eval(_REWR_it)\n",
      "            _REWR_right = [i['name'] for i in _REWR_left] if isinstance(\n",
      "                _REWR_left, list) else []\n",
      "            _REWR_res.append(_REWR_right)\n",
      "        return pd.Series(_REWR_res)\n",
      "    else:\n",
      "        return _REWR_ser.apply(literal_eval).apply(lambda x: [i['name'] for\n",
      "            i in _REWR_left] if isinstance(_REWR_left, list) else [])\n",
      "md['genres'] = _REWR_fused_apply(md['genres'].fillna('[]')).head()\n",
      "\n",
      "CPU times: user 1.17 s, sys: 14.1 ms, total: 1.18 s\n",
      "Wall time: 1.18 s\n"
     ]
    }
   ],
   "source": [
    "%%time\n",
    "%%rewrite\n",
    "md['genres'] = md['genres'].fillna('[]').apply(literal_eval).apply(lambda x: [i['name'] for i in x] if isinstance(x, list) else []).head()"
   ]
  }
 ],
 "metadata": {
  "kernelspec": {
   "display_name": "Python 3 (ipykernel)",
   "language": "python",
   "name": "python3"
  },
  "language_info": {
   "codemirror_mode": {
    "name": "ipython",
    "version": 3
   },
   "file_extension": ".py",
   "mimetype": "text/x-python",
   "name": "python",
   "nbconvert_exporter": "python",
   "pygments_lexer": "ipython3",
   "version": "3.10.6"
  }
 },
 "nbformat": 4,
 "nbformat_minor": 1
}
